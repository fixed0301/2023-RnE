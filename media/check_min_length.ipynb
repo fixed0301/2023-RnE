{
 "cells": [
  {
   "cell_type": "code",
   "execution_count": 1,
   "outputs": [],
   "source": [
    "import os\n",
    "import pandas as pd"
   ],
   "metadata": {
    "collapsed": false,
    "ExecuteTime": {
     "end_time": "2023-12-14T03:57:33.284481900Z",
     "start_time": "2023-12-14T03:57:33.089482600Z"
    }
   },
   "id": "dd2bdfd2ddedf328"
  },
  {
   "cell_type": "code",
   "execution_count": 2,
   "outputs": [],
   "source": [
    "def check_length(df):\n",
    "    return len(df)"
   ],
   "metadata": {
    "collapsed": false,
    "ExecuteTime": {
     "end_time": "2023-12-14T03:57:34.238021400Z",
     "start_time": "2023-12-14T03:57:34.223020400Z"
    }
   },
   "id": "15d25a180d9f91a4"
  },
  {
   "cell_type": "code",
   "execution_count": 3,
   "outputs": [
    {
     "name": "stdout",
     "output_type": "stream",
     "text": [
      "max: 1912 min: 46\n",
      "15754\n"
     ]
    }
   ],
   "source": [
    "folder_path = '../csv_1031'\n",
    "all_length = []\n",
    "fie = []\n",
    "for file in os.listdir(folder_path):\n",
    "    file_path = os.path.join(folder_path, file)\n",
    "    df = pd.read_csv(file_path)\n",
    "    fie.append(file)\n",
    "    all_length.append(check_length(df))\n",
    "\n",
    "print('max:', max(all_length), 'min:', min(all_length))\n",
    "print(sum(all_length))    "
   ],
   "metadata": {
    "collapsed": false,
    "ExecuteTime": {
     "end_time": "2023-12-14T03:57:35.271080100Z",
     "start_time": "2023-12-14T03:57:35.050020500Z"
    }
   },
   "id": "initial_id"
  },
  {
   "cell_type": "code",
   "execution_count": null,
   "outputs": [],
   "source": [],
   "metadata": {
    "collapsed": false
   },
   "id": "ebc79c7deaee9c35"
  }
 ],
 "metadata": {
  "kernelspec": {
   "display_name": "Python 3",
   "language": "python",
   "name": "python3"
  },
  "language_info": {
   "codemirror_mode": {
    "name": "ipython",
    "version": 2
   },
   "file_extension": ".py",
   "mimetype": "text/x-python",
   "name": "python",
   "nbconvert_exporter": "python",
   "pygments_lexer": "ipython2",
   "version": "2.7.6"
  }
 },
 "nbformat": 4,
 "nbformat_minor": 5
}
