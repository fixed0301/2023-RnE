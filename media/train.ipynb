{
 "cells": [
  {
   "cell_type": "code",
   "execution_count": 1,
   "outputs": [],
   "source": [
    "import os\n",
    "import cv2\n",
    "import random\n",
    "import pandas as pd\n",
    "import torch\n",
    "import torch.nn as nn\n",
    "import matplotlib.pyplot as plt\n",
    "import numpy as np\n",
    "from torch.optim import Adam\n",
    "from torch.utils.data import Dataset, DataLoader, random_split"
   ],
   "metadata": {
    "collapsed": false,
    "ExecuteTime": {
     "end_time": "2023-12-13T05:10:03.391619500Z",
     "start_time": "2023-12-13T05:10:02.044987700Z"
    }
   },
   "id": "91a24a48c60e7953"
  },
  {
   "cell_type": "code",
   "execution_count": 2,
   "outputs": [
    {
     "name": "stdout",
     "output_type": "stream",
     "text": [
      "GPU 사용 불가능 상태\n"
     ]
    }
   ],
   "source": [
    "if torch.cuda.is_available() == True:\n",
    "       device = 'cuda:0'\n",
    "       print('현재 가상환경 GPU 사용 가능 상태')\n",
    "else:\n",
    "       device = 'cpu'\n",
    "       print('GPU 사용 불가능 상태')"
   ],
   "metadata": {
    "collapsed": false,
    "ExecuteTime": {
     "end_time": "2023-12-13T05:10:19.814339900Z",
     "start_time": "2023-12-13T05:10:19.811252800Z"
    }
   },
   "id": "2a6bb59c8c16479c"
  },
  {
   "cell_type": "code",
   "execution_count": 3,
   "outputs": [],
   "source": [
    "def seed_everything(seed: int = 24):\n",
    "       random.seed(seed)\n",
    "       np.random.seed(seed)\n",
    "       # torch.cuda.manual_seed(seed)\n",
    "       # torch.backends.cudnn.deterministic = True\n",
    "seed_everything()"
   ],
   "metadata": {
    "collapsed": false,
    "ExecuteTime": {
     "end_time": "2023-12-13T05:10:22.148376600Z",
     "start_time": "2023-12-13T05:10:22.145714900Z"
    }
   },
   "id": "18a26b6e0c9bac97"
  },
  {
   "cell_type": "code",
   "execution_count": 4,
   "outputs": [],
   "source": [
    "tot_actions = 5\n",
    "actions_name = 'backward', 'sit', 'slide', 'swing', 'walk'\n",
    "min_data_len = 45"
   ],
   "metadata": {
    "collapsed": false,
    "ExecuteTime": {
     "end_time": "2023-12-13T05:10:23.440391200Z",
     "start_time": "2023-12-13T05:10:23.437390100Z"
    }
   },
   "id": "initial_id"
  },
  {
   "cell_type": "code",
   "execution_count": 5,
   "outputs": [],
   "source": [
    "actions_csv_dir = '../csv_1031/'\n",
    "dataset = []\n",
    "\n",
    "label_mapping = {'backward': 0,\n",
    "                 'sit': 1,\n",
    "                 'slide': 2,\n",
    "                 'swing': 3,\n",
    "                 'walk' : 4\n",
    "                 }\n",
    "\n",
    "def map_action_to_label(csv_name):\n",
    "       for action, label in label_mapping.items():\n",
    "              if action in csv_name.split('_')[0]:\n",
    "                     return label\n",
    "       return -1\n",
    "\n",
    "\n",
    "for action_csv in os.listdir(actions_csv_dir):\n",
    "       action_df = pd.read_csv(os.path.join(actions_csv_dir, action_csv))\n",
    "       \n",
    "       label = map_action_to_label(action_csv)\n",
    "       if label != -1:\n",
    "              for idx in range(0, len(action_df), int(min_data_len / 2)):\n",
    "                     seq_df = action_df[idx: idx + min_data_len] #길이만큼 데이터 자른 것(즉 length 만큼의 프레임)\n",
    "                     if len(seq_df) == min_data_len: # 딱 length에 개수 맞춰서 끊어서 넣으려고\n",
    "                            dataset.append({'key': label, 'value': seq_df}) # key에 slide, value에는 묶음 프레임 만큼이 담기겠네\n",
    "       #최종적으로 dataset에는 행동별로 dictionary 가 만들어져 들어간다."
   ],
   "metadata": {
    "collapsed": false,
    "ExecuteTime": {
     "end_time": "2023-12-13T05:10:25.644261400Z",
     "start_time": "2023-12-13T05:10:25.109765100Z"
    }
   },
   "id": "20776e1e9089a511"
  },
  {
   "cell_type": "code",
   "execution_count": 6,
   "outputs": [
    {
     "name": "stdout",
     "output_type": "stream",
     "text": [
      "Index(['Nose_x', 'Nose_y', 'Nose_z', 'LEye_in_x', 'LEye_in_y', 'LEye_in_z',\n",
      "       'LEye_x', 'LEye_y', 'LEye_z', 'LEye_out_x', 'LEye_out_y', 'LEye_out_z',\n",
      "       'REye_in_x', 'REye_in_y', 'REye_in_z', 'REye_x', 'REye_y', 'REye_z',\n",
      "       'REye_out_x', 'REye_out_y', 'REye_out_z', 'LEar_x', 'LEar_y', 'LEar_z',\n",
      "       'REar_x', 'REar_y', 'REar_z', 'LMouth_x', 'LMouth_y', 'LMouth_z',\n",
      "       'RMouth_x', 'RMouth_y', 'RMouth_z', 'LShoulder_x', 'LShoulder_y',\n",
      "       'LShoulder_z', 'RShoulder_x', 'RShoulder_y', 'RShoulder_z', 'LElbow_x',\n",
      "       'LElbow_y', 'LElbow_z', 'RElbow_x', 'RElbow_y', 'RElbow_z', 'LWrist_x',\n",
      "       'LWrist_y', 'LWrist_z', 'RWrist_x', 'RWrist_y', 'RWrist_z', 'LPinky_x',\n",
      "       'LPinky_y', 'LPinky_z', 'RPinky_x', 'RPinky_y', 'RPinky_z', 'LIndex_x',\n",
      "       'LIndex_y', 'LIndex_z', 'RIndex_x', 'RIndex_y', 'RIndex_z', 'LThumb_x',\n",
      "       'LThumb_y', 'LThumb_z', 'RThumb_x', 'RThumb_y', 'RThumb_z', 'LHip_x',\n",
      "       'LHip_y', 'LHip_z', 'RHip_x', 'RHip_y', 'RHip_z', 'LKnee_x', 'LKnee_y',\n",
      "       'LKnee_z', 'RKnee_x', 'RKnee_y', 'RKnee_z', 'LAnkle_x', 'LAnkle_y',\n",
      "       'LAnkle_z', 'RAnkle_x', 'RAnkle_y', 'RAnkle_z', 'LHeel_x', 'LHeel_y',\n",
      "       'LHeel_z', 'RHeel_x', 'RHeel_y', 'RHeel_z', 'LFIndex_x', 'LFIndex_y',\n",
      "       'LFIndex_z', 'RFIndex_x', 'RFIndex_y', 'RFIndex_z'],\n",
      "      dtype='object')\n"
     ]
    }
   ],
   "source": [
    "print(dataset[0]['value'].columns) # z축 까지 99 (33 * 3)차원"
   ],
   "metadata": {
    "collapsed": false,
    "ExecuteTime": {
     "end_time": "2023-12-13T05:10:26.722388500Z",
     "start_time": "2023-12-13T05:10:26.716756800Z"
    }
   },
   "id": "d656657e15c7e45f"
  },
  {
   "cell_type": "code",
   "execution_count": 7,
   "outputs": [],
   "source": [
    "class MyDataset(Dataset):\n",
    "       def __init__(self, dataset): #모든 행동을 통합한 df가 들어가야함\n",
    "              self.x = []\n",
    "              self.y = []\n",
    "              for dic in dataset:\n",
    "                     self.y.append(dic['key']) #key 값에는 actions 들어감\n",
    "                     self.x.append(dic['value']) #action마다의 data 들어감\n",
    "\n",
    "       def __getitem__(self, index): #index는 행동의 index\n",
    "              data = self.x[index] # x에는 꺼내 쓸 (행동마다 45개 묶음프레임)의 데이터\n",
    "              label = self.y[index]\n",
    "              return torch.Tensor(np.array(data)), torch.tensor(np.array(int(label)))\n",
    "\n",
    "       def __len__(self):\n",
    "              return len(self.x)\n"
   ],
   "metadata": {
    "collapsed": false,
    "ExecuteTime": {
     "end_time": "2023-12-13T05:10:33.378180600Z",
     "start_time": "2023-12-13T05:10:33.376674900Z"
    }
   },
   "id": "f6106f1224437afe"
  },
  {
   "cell_type": "code",
   "execution_count": 8,
   "outputs": [
    {
     "name": "stdout",
     "output_type": "stream",
     "text": [
      "664\n",
      "531, 66, 67\n"
     ]
    }
   ],
   "source": [
    "train_test_val_ratio = [0.8, 0.1, 0.1]\n",
    "print(len(dataset))\n",
    "train_len = int(len(dataset) * train_test_val_ratio[0])\n",
    "val_len = int(len(dataset) * train_test_val_ratio[1])\n",
    "test_len = len(dataset) - train_len - val_len\n",
    "print('{}, {}, {}'.format(train_len, val_len, test_len))"
   ],
   "metadata": {
    "collapsed": false,
    "ExecuteTime": {
     "end_time": "2023-12-13T05:10:34.140354700Z",
     "start_time": "2023-12-13T05:10:34.117001100Z"
    }
   },
   "id": "ba330d25c6c6f524"
  },
  {
   "cell_type": "code",
   "execution_count": 21,
   "outputs": [],
   "source": [
    "CFG = {'batch_size': 32,\n",
    "       'learning_rate': 1e-4,\n",
    "       'seed':24,\n",
    "       'epochs': 100   \n",
    "}"
   ],
   "metadata": {
    "collapsed": false,
    "ExecuteTime": {
     "end_time": "2023-12-13T05:25:58.543011800Z",
     "start_time": "2023-12-13T05:25:58.540504500Z"
    }
   },
   "id": "14d2065c8d4dc0c6"
  },
  {
   "cell_type": "code",
   "execution_count": 22,
   "outputs": [],
   "source": [
    "train_dataset = MyDataset(dataset)\n",
    "train_data, valid_data, test_data = random_split(train_dataset, [train_len, val_len, test_len])\n",
    "\n",
    "train_loader = DataLoader(train_data, batch_size=CFG['batch_size'])\n",
    "val_loader = DataLoader(valid_data, batch_size=CFG['batch_size'])\n",
    "test_loader = DataLoader(test_data, batch_size=CFG['batch_size'])"
   ],
   "metadata": {
    "collapsed": false,
    "ExecuteTime": {
     "end_time": "2023-12-13T05:26:03.026692100Z",
     "start_time": "2023-12-13T05:26:03.024185100Z"
    }
   },
   "id": "9fa7ab00e37041cc"
  },
  {
   "cell_type": "code",
   "execution_count": 23,
   "outputs": [],
   "source": [
    "class Model(nn.Module):\n",
    "       def __init__(self):\n",
    "              super(Model, self).__init__()\n",
    "              self.lstm1 = nn.LSTM(input_size=99, hidden_size=128, num_layers=1, batch_first=True) #input은  45 * 3(x, y z)\n",
    "              self.lstm2 = nn.LSTM(input_size=128, hidden_size=256, num_layers=1, batch_first=True)\n",
    "              self.lstm3 = nn.LSTM(input_size=256, hidden_size=512, num_layers=1, batch_first=True)\n",
    "              self.dropout1 = nn.Dropout(0, 1)\n",
    "              self.lstm4 = nn.LSTM(input_size=512, hidden_size=256, num_layers=1, batch_first=True)\n",
    "              self.lstm5 = nn.LSTM(input_size=256, hidden_size=128, num_layers=1, batch_first=True)\n",
    "              self.lstm6 = nn.LSTM(input_size=128, hidden_size=64, num_layers=1, batch_first=True)\n",
    "              self.dropout2 = nn.Dropout(0, 1)\n",
    "              self.lstm7 = nn.LSTM(input_size=64, hidden_size=32, num_layers=1, batch_first=True)\n",
    "              self.fc = nn.Linear(32, 5) #분류할 클래스 5가지\n",
    "\n",
    "       def forward(self, x):\n",
    "              x, _ = self.lstm1(x)\n",
    "              x, _ = self.lstm2(x)\n",
    "              x, _ = self.lstm3(x)\n",
    "              x = self.dropout1(x)\n",
    "              x, _ = self.lstm4(x)\n",
    "              x, _ = self.lstm5(x)\n",
    "              x, _ = self.lstm6(x)\n",
    "              x = self.dropout2(x)\n",
    "              x, _ = self.lstm7(x)\n",
    "              x = self.fc(x[:, -1, :])\n",
    "              return x"
   ],
   "metadata": {
    "collapsed": false,
    "ExecuteTime": {
     "end_time": "2023-12-13T05:26:06.227283700Z",
     "start_time": "2023-12-13T05:26:06.224456800Z"
    }
   },
   "id": "d712906be6495443"
  },
  {
   "cell_type": "code",
   "execution_count": 24,
   "outputs": [
    {
     "name": "stdout",
     "output_type": "stream",
     "text": [
      "torch.Size([32, 45, 99])\n"
     ]
    }
   ],
   "source": [
    "# for data, label in test_loader:\n",
    "#        print('data:', len(data)) # 배치만큼 출력하니까 'data: 8.. '\n",
    "d = []\n",
    "l = []\n",
    "for data, label in test_loader:\n",
    "       d.append(data)\n",
    "       l.append(label)\n",
    "print(d[0].shape) # 8개 잡은 배치, 45개 seqence 길이, 99 차원"
   ],
   "metadata": {
    "collapsed": false,
    "ExecuteTime": {
     "end_time": "2023-12-13T05:26:07.122440100Z",
     "start_time": "2023-12-13T05:26:07.118340100Z"
    }
   },
   "id": "8883e47fa66b3b43"
  },
  {
   "cell_type": "code",
   "execution_count": 25,
   "outputs": [
    {
     "name": "stdout",
     "output_type": "stream",
     "text": [
      "Epoch: 0 - Train Loss: 1.585879 - Train Acc: 0.061920 - Valid Loss: 1.542988 - Valid Acc: 0.031250\n",
      "Epoch: 1 - Train Loss: 1.497454 - Train Acc: 0.483166 - Valid Loss: 1.303897 - Valid Acc: 0.718750\n",
      "Epoch: 2 - Train Loss: 1.376991 - Train Acc: 0.523607 - Valid Loss: 1.157289 - Valid Acc: 0.718750\n",
      "Epoch: 3 - Train Loss: 1.318863 - Train Acc: 0.523607 - Valid Loss: 1.071492 - Valid Acc: 0.718750\n",
      "Epoch: 4 - Train Loss: 1.290802 - Train Acc: 0.523607 - Valid Loss: 1.032375 - Valid Acc: 0.718750\n",
      "Epoch: 5 - Train Loss: 1.277926 - Train Acc: 0.523607 - Valid Loss: 1.018920 - Valid Acc: 0.718750\n",
      "Epoch: 6 - Train Loss: 1.270365 - Train Acc: 0.523607 - Valid Loss: 1.014537 - Valid Acc: 0.718750\n",
      "Epoch: 7 - Train Loss: 1.264929 - Train Acc: 0.523607 - Valid Loss: 1.013684 - Valid Acc: 0.718750\n",
      "Epoch: 8 - Train Loss: 1.260996 - Train Acc: 0.523607 - Valid Loss: 1.013621 - Valid Acc: 0.718750\n",
      "Epoch: 9 - Train Loss: 1.258174 - Train Acc: 0.523607 - Valid Loss: 1.013395 - Valid Acc: 0.718750\n",
      "Epoch: 10 - Train Loss: 1.256201 - Train Acc: 0.523607 - Valid Loss: 1.013168 - Valid Acc: 0.718750\n",
      "Epoch: 11 - Train Loss: 1.254832 - Train Acc: 0.523607 - Valid Loss: 1.013007 - Valid Acc: 0.718750\n",
      "Epoch: 12 - Train Loss: 1.253782 - Train Acc: 0.523607 - Valid Loss: 1.012919 - Valid Acc: 0.718750\n",
      "Epoch: 13 - Train Loss: 1.252966 - Train Acc: 0.523607 - Valid Loss: 1.012901 - Valid Acc: 0.718750\n",
      "Epoch: 14 - Train Loss: 1.252323 - Train Acc: 0.523607 - Valid Loss: 1.012937 - Valid Acc: 0.718750\n",
      "Epoch: 15 - Train Loss: 1.251807 - Train Acc: 0.523607 - Valid Loss: 1.013046 - Valid Acc: 0.718750\n",
      "Epoch: 16 - Train Loss: 1.251423 - Train Acc: 0.523607 - Valid Loss: 1.013164 - Valid Acc: 0.718750\n",
      "Epoch: 17 - Train Loss: 1.251069 - Train Acc: 0.523607 - Valid Loss: 1.013191 - Valid Acc: 0.718750\n",
      "Epoch: 18 - Train Loss: 1.250693 - Train Acc: 0.523607 - Valid Loss: 1.013078 - Valid Acc: 0.718750\n",
      "Epoch: 19 - Train Loss: 1.250120 - Train Acc: 0.523607 - Valid Loss: 1.012299 - Valid Acc: 0.718750\n",
      "Epoch: 20 - Train Loss: 1.248948 - Train Acc: 0.523607 - Valid Loss: 1.009145 - Valid Acc: 0.718750\n",
      "Epoch: 21 - Train Loss: 1.244067 - Train Acc: 0.523607 - Valid Loss: 0.999715 - Valid Acc: 0.718750\n",
      "Epoch: 22 - Train Loss: 1.232888 - Train Acc: 0.523607 - Valid Loss: 0.985780 - Valid Acc: 0.718750\n",
      "Epoch: 23 - Train Loss: 1.252113 - Train Acc: 0.523607 - Valid Loss: 1.040684 - Valid Acc: 0.718750\n",
      "Epoch: 24 - Train Loss: 1.250526 - Train Acc: 0.523607 - Valid Loss: 1.020110 - Valid Acc: 0.718750\n",
      "Epoch: 25 - Train Loss: 1.249813 - Train Acc: 0.523607 - Valid Loss: 1.014936 - Valid Acc: 0.718750\n",
      "Epoch: 26 - Train Loss: 1.249877 - Train Acc: 0.523607 - Valid Loss: 1.013993 - Valid Acc: 0.718750\n",
      "Epoch: 27 - Train Loss: 1.249879 - Train Acc: 0.523607 - Valid Loss: 1.014205 - Valid Acc: 0.718750\n",
      "Epoch: 28 - Train Loss: 1.249733 - Train Acc: 0.523607 - Valid Loss: 1.014424 - Valid Acc: 0.718750\n",
      "Epoch: 29 - Train Loss: 1.249213 - Train Acc: 0.523607 - Valid Loss: 0.995387 - Valid Acc: 0.718750\n",
      "Epoch: 30 - Train Loss: 1.225006 - Train Acc: 0.523607 - Valid Loss: 0.970366 - Valid Acc: 0.718750\n",
      "Epoch: 31 - Train Loss: 1.209156 - Train Acc: 0.523607 - Valid Loss: 0.943635 - Valid Acc: 0.718750\n",
      "Epoch: 32 - Train Loss: 1.169239 - Train Acc: 0.523607 - Valid Loss: 0.897805 - Valid Acc: 0.718750\n",
      "Epoch: 33 - Train Loss: 1.118858 - Train Acc: 0.523607 - Valid Loss: 0.849555 - Valid Acc: 0.864583\n",
      "Model saved, model val acc:  0.8645833333333334\n",
      "Epoch: 34 - Train Loss: 1.055865 - Train Acc: 0.730166 - Valid Loss: 0.797255 - Valid Acc: 0.864583\n",
      "Epoch: 35 - Train Loss: 1.010542 - Train Acc: 0.730166 - Valid Loss: 0.767679 - Valid Acc: 0.864583\n",
      "Epoch: 36 - Train Loss: 0.984540 - Train Acc: 0.730166 - Valid Loss: 0.740518 - Valid Acc: 0.864583\n",
      "Epoch: 37 - Train Loss: 0.963489 - Train Acc: 0.730747 - Valid Loss: 0.731472 - Valid Acc: 0.864583\n",
      "Epoch: 38 - Train Loss: 0.956486 - Train Acc: 0.730166 - Valid Loss: 0.725259 - Valid Acc: 0.864583\n",
      "Epoch: 39 - Train Loss: 0.960593 - Train Acc: 0.719717 - Valid Loss: 0.806039 - Valid Acc: 0.791667\n",
      "Epoch: 40 - Train Loss: 0.951336 - Train Acc: 0.720975 - Valid Loss: 0.687649 - Valid Acc: 0.875000\n",
      "Model saved, model val acc:  0.875\n",
      "Epoch: 41 - Train Loss: 0.926637 - Train Acc: 0.730166 - Valid Loss: 0.678317 - Valid Acc: 0.875000\n",
      "Epoch: 42 - Train Loss: 0.910649 - Train Acc: 0.735681 - Valid Loss: 0.687792 - Valid Acc: 0.864583\n",
      "Epoch: 43 - Train Loss: 0.900479 - Train Acc: 0.739358 - Valid Loss: 0.689232 - Valid Acc: 0.864583\n",
      "Epoch: 44 - Train Loss: 0.895468 - Train Acc: 0.739358 - Valid Loss: 0.712633 - Valid Acc: 0.854167\n",
      "Epoch: 45 - Train Loss: 0.892959 - Train Acc: 0.739358 - Valid Loss: 0.709545 - Valid Acc: 0.854167\n",
      "Epoch: 46 - Train Loss: 0.884129 - Train Acc: 0.741196 - Valid Loss: 0.696436 - Valid Acc: 0.854167\n",
      "Epoch: 47 - Train Loss: 0.880201 - Train Acc: 0.741196 - Valid Loss: 0.689109 - Valid Acc: 0.854167\n",
      "Epoch: 48 - Train Loss: 0.875192 - Train Acc: 0.739358 - Valid Loss: 0.685770 - Valid Acc: 0.854167\n",
      "Epoch: 49 - Train Loss: 0.867137 - Train Acc: 0.743034 - Valid Loss: 0.686805 - Valid Acc: 0.854167\n",
      "Epoch: 50 - Train Loss: 0.861467 - Train Acc: 0.744872 - Valid Loss: 0.683159 - Valid Acc: 0.854167\n",
      "Epoch: 51 - Train Loss: 0.855345 - Train Acc: 0.744872 - Valid Loss: 0.678455 - Valid Acc: 0.854167\n",
      "Epoch: 52 - Train Loss: 0.852602 - Train Acc: 0.744872 - Valid Loss: 0.675405 - Valid Acc: 0.854167\n",
      "Epoch: 53 - Train Loss: 0.849492 - Train Acc: 0.744872 - Valid Loss: 0.672340 - Valid Acc: 0.854167\n",
      "Epoch: 54 - Train Loss: 0.846128 - Train Acc: 0.744872 - Valid Loss: 0.666915 - Valid Acc: 0.854167\n",
      "Epoch: 55 - Train Loss: 0.841641 - Train Acc: 0.744872 - Valid Loss: 0.656036 - Valid Acc: 0.854167\n",
      "Epoch: 56 - Train Loss: 0.839020 - Train Acc: 0.744872 - Valid Loss: 0.650690 - Valid Acc: 0.854167\n",
      "Epoch: 57 - Train Loss: 0.834712 - Train Acc: 0.744872 - Valid Loss: 0.655718 - Valid Acc: 0.854167\n",
      "Epoch: 58 - Train Loss: 0.835069 - Train Acc: 0.744872 - Valid Loss: 0.648707 - Valid Acc: 0.854167\n",
      "Epoch: 59 - Train Loss: 0.829879 - Train Acc: 0.744872 - Valid Loss: 0.644727 - Valid Acc: 0.854167\n",
      "Epoch: 60 - Train Loss: 0.829770 - Train Acc: 0.743034 - Valid Loss: 0.641678 - Valid Acc: 0.854167\n",
      "Epoch: 61 - Train Loss: 0.823284 - Train Acc: 0.746711 - Valid Loss: 0.641232 - Valid Acc: 0.854167\n",
      "Epoch: 62 - Train Loss: 0.834493 - Train Acc: 0.739358 - Valid Loss: 0.642486 - Valid Acc: 0.864583\n",
      "Epoch: 63 - Train Loss: 0.831262 - Train Acc: 0.739358 - Valid Loss: 0.649250 - Valid Acc: 0.854167\n",
      "Epoch: 64 - Train Loss: 0.830000 - Train Acc: 0.744872 - Valid Loss: 0.665366 - Valid Acc: 0.854167\n",
      "Epoch: 65 - Train Loss: 0.825985 - Train Acc: 0.744872 - Valid Loss: 0.631648 - Valid Acc: 0.854167\n",
      "Epoch: 66 - Train Loss: 0.814869 - Train Acc: 0.741196 - Valid Loss: 0.630476 - Valid Acc: 0.854167\n",
      "Epoch: 67 - Train Loss: 0.813675 - Train Acc: 0.744872 - Valid Loss: 0.630186 - Valid Acc: 0.854167\n",
      "Epoch: 68 - Train Loss: 0.819425 - Train Acc: 0.744872 - Valid Loss: 0.630688 - Valid Acc: 0.854167\n",
      "Epoch: 69 - Train Loss: 0.817283 - Train Acc: 0.744872 - Valid Loss: 0.630910 - Valid Acc: 0.854167\n",
      "Epoch: 70 - Train Loss: 0.817612 - Train Acc: 0.744872 - Valid Loss: 0.629893 - Valid Acc: 0.854167\n",
      "Epoch: 71 - Train Loss: 0.816776 - Train Acc: 0.744872 - Valid Loss: 0.629484 - Valid Acc: 0.854167\n",
      "Epoch: 72 - Train Loss: 0.813796 - Train Acc: 0.744872 - Valid Loss: 0.630721 - Valid Acc: 0.854167\n",
      "Epoch: 73 - Train Loss: 0.809298 - Train Acc: 0.744872 - Valid Loss: 0.623775 - Valid Acc: 0.854167\n",
      "Epoch: 74 - Train Loss: 0.810542 - Train Acc: 0.744872 - Valid Loss: 0.626593 - Valid Acc: 0.854167\n",
      "Epoch: 75 - Train Loss: 0.802745 - Train Acc: 0.746711 - Valid Loss: 0.620431 - Valid Acc: 0.854167\n",
      "Epoch: 76 - Train Loss: 0.799256 - Train Acc: 0.746711 - Valid Loss: 0.617735 - Valid Acc: 0.854167\n",
      "Epoch: 77 - Train Loss: 0.797096 - Train Acc: 0.746711 - Valid Loss: 0.614720 - Valid Acc: 0.854167\n",
      "Epoch: 78 - Train Loss: 0.794113 - Train Acc: 0.746711 - Valid Loss: 0.612306 - Valid Acc: 0.854167\n",
      "Epoch: 79 - Train Loss: 0.789667 - Train Acc: 0.744872 - Valid Loss: 0.630925 - Valid Acc: 0.854167\n",
      "Epoch: 80 - Train Loss: 0.788117 - Train Acc: 0.746711 - Valid Loss: 0.632254 - Valid Acc: 0.854167\n",
      "Epoch: 81 - Train Loss: 0.782548 - Train Acc: 0.746711 - Valid Loss: 0.634706 - Valid Acc: 0.854167\n",
      "Epoch: 82 - Train Loss: 0.785058 - Train Acc: 0.746711 - Valid Loss: 0.611708 - Valid Acc: 0.854167\n",
      "Epoch: 83 - Train Loss: 0.804367 - Train Acc: 0.746711 - Valid Loss: 0.611595 - Valid Acc: 0.854167\n",
      "Epoch: 84 - Train Loss: 0.801393 - Train Acc: 0.748549 - Valid Loss: 0.612222 - Valid Acc: 0.854167\n",
      "Epoch: 85 - Train Loss: 0.799262 - Train Acc: 0.748549 - Valid Loss: 0.614168 - Valid Acc: 0.854167\n",
      "Epoch: 86 - Train Loss: 0.796970 - Train Acc: 0.748549 - Valid Loss: 0.611817 - Valid Acc: 0.854167\n",
      "Epoch: 87 - Train Loss: 0.785810 - Train Acc: 0.748549 - Valid Loss: 0.597677 - Valid Acc: 0.854167\n",
      "Epoch: 88 - Train Loss: 0.769057 - Train Acc: 0.748549 - Valid Loss: 0.638686 - Valid Acc: 0.854167\n",
      "Epoch: 89 - Train Loss: 0.772937 - Train Acc: 0.748549 - Valid Loss: 0.592013 - Valid Acc: 0.854167\n",
      "Epoch: 90 - Train Loss: 0.766692 - Train Acc: 0.748549 - Valid Loss: 0.590976 - Valid Acc: 0.854167\n",
      "Epoch: 91 - Train Loss: 0.755783 - Train Acc: 0.748549 - Valid Loss: 0.629353 - Valid Acc: 0.854167\n",
      "Epoch: 92 - Train Loss: 0.765305 - Train Acc: 0.744872 - Valid Loss: 0.597561 - Valid Acc: 0.854167\n",
      "Epoch: 93 - Train Loss: 0.782557 - Train Acc: 0.748549 - Valid Loss: 0.648641 - Valid Acc: 0.854167\n",
      "Epoch: 94 - Train Loss: 0.769375 - Train Acc: 0.746711 - Valid Loss: 0.577362 - Valid Acc: 0.854167\n",
      "Epoch: 95 - Train Loss: 0.746422 - Train Acc: 0.748549 - Valid Loss: 0.624457 - Valid Acc: 0.854167\n",
      "Epoch: 96 - Train Loss: 0.752952 - Train Acc: 0.746711 - Valid Loss: 0.575089 - Valid Acc: 0.854167\n",
      "Epoch: 97 - Train Loss: 0.738547 - Train Acc: 0.748549 - Valid Loss: 0.646128 - Valid Acc: 0.843750\n",
      "Epoch: 98 - Train Loss: 0.768350 - Train Acc: 0.744872 - Valid Loss: 0.571054 - Valid Acc: 0.854167\n",
      "Epoch: 99 - Train Loss: 0.737810 - Train Acc: 0.748549 - Valid Loss: 0.568380 - Valid Acc: 0.843750\n",
      "Train finished, best_models size:  2\n"
     ]
    },
    {
     "data": {
      "text/plain": "<Figure size 1000x500 with 1 Axes>",
      "image/png": "[encoded data removed]"
     },
     "metadata": {},
     "output_type": "display_data"
    },
    {
     "data": {
      "text/plain": "<Figure size 1000x500 with 1 Axes>",
      "image/png": "[encoded data removed]"
     },
     "metadata": {},
     "output_type": "display_data"
    }
   ],
   "source": [
    "import torch\n",
    "import torch.nn as nn\n",
    "import torch.optim as optim\n",
    "import numpy as np\n",
    "import matplotlib.pyplot as plt\n",
    "\n",
    "\n",
    "num_epochs = CFG['epochs']\n",
    "best_models = [] \n",
    "\n",
    "model = Model()\n",
    "optimizer = torch.optim.Adam(model.parameters(), lr=CFG['learning_rate'])\n",
    "criterion = nn.CrossEntropyLoss()\n",
    "lr_scheduler = torch.optim.lr_scheduler.StepLR(optimizer,\n",
    "                                               step_size=5,\n",
    "                                               gamma=0.9)  # learning rate scheduler 로 학습률 주기적 감소\n",
    "\n",
    "val_acc_max = 0.75\n",
    "val_loss_min = 0.25\n",
    "\n",
    "# Lists to store training and validation metrics for each epoch\n",
    "train_loss_history = []\n",
    "val_loss_history = []\n",
    "train_acc_history = []\n",
    "val_acc_history = []\n",
    "\n",
    "for epoch in range(num_epochs):\n",
    "       train_loss_list = []\n",
    "       val_loss_list = []\n",
    "       train_acc_list = []\n",
    "       val_acc_list = []\n",
    "\n",
    "       # 모델 학습\n",
    "       for i, (images, targets) in enumerate(train_loader):\n",
    "              model.train()\n",
    "              optimizer.zero_grad()\n",
    "              outputs = model(images)\n",
    "\n",
    "              targets = targets.long()\n",
    "              loss = criterion(outputs, targets)\n",
    "              loss.backward()\n",
    "              optimizer.step()\n",
    "\n",
    "              train_loss_list.append(loss.item())\n",
    "\n",
    "              preds = torch.argmax(outputs, dim=1)\n",
    "              batch_acc = (preds == targets).float().mean()\n",
    "              train_acc_list.append(batch_acc.item())\n",
    "\n",
    "              if (i + 1) % 20 == 0:\n",
    "                     print(f'Epoch: {epoch} - Batch: {i+1}/{len(train_loader)} - Loss: {loss:.6f}')\n",
    "\n",
    "       train_loss = np.mean(train_loss_list)\n",
    "       train_acc = np.mean(train_acc_list)\n",
    "\n",
    "       # 모델 검증\n",
    "       for i, (images, targets) in enumerate(val_loader):\n",
    "              model.eval()\n",
    "              with torch.no_grad():\n",
    "                     outputs = model(images)\n",
    "                     targets = targets.long()\n",
    "                     val_loss = criterion(outputs, targets)\n",
    "                     preds = torch.argmax(outputs, dim=1)\n",
    "                     batch_acc = (preds == targets).float().mean()\n",
    "                     val_loss_list.append(val_loss.item())\n",
    "                     val_acc_list.append(batch_acc.item())\n",
    "\n",
    "       val_loss = np.mean(val_loss_list)\n",
    "       val_acc = np.mean(val_acc_list)\n",
    "\n",
    "       # Append metrics to the history lists\n",
    "       train_loss_history.append(train_loss)\n",
    "       val_loss_history.append(val_loss)\n",
    "       train_acc_history.append(train_acc)\n",
    "       val_acc_history.append(val_acc)\n",
    "\n",
    "       print(f'Epoch: {epoch} - Train Loss: {train_loss:.6f} - Train Acc: {train_acc:.6f} - Valid Loss: {val_loss:.6f} - Valid Acc: {val_acc:.6f}')\n",
    "\n",
    "       # val에서의 정확도 기준 모델 저장\n",
    "       if val_acc_max < val_acc:\n",
    "              val_acc_max = val_acc\n",
    "              best_models.append(model)\n",
    "              print('Model saved, model val acc: ', val_acc)\n",
    "\n",
    "       # 검증 손실이 최소일 때 모델 저장\n",
    "       if val_loss_min > val_loss:\n",
    "              val_loss_min = val_loss\n",
    "              torch.save(model.state_dict(), 'best_model.pth')\n",
    "\n",
    "       lr_scheduler.step()\n",
    "\n",
    "print('Train finished, best_models size: ', len(best_models))\n",
    "\n",
    "# Plotting the training and validation loss\n",
    "plt.figure(figsize=(10, 5))\n",
    "plt.plot(train_loss_history, label='Training Loss')\n",
    "plt.plot(val_loss_history, label='Validation Loss')\n",
    "plt.xlabel('Epoch')\n",
    "plt.ylabel('Loss')\n",
    "plt.title('Training and Validation Loss over Epochs')\n",
    "plt.legend()\n",
    "plt.show()\n",
    "\n",
    "# Plotting the training and validation accuracy\n",
    "plt.figure(figsize=(10, 5))\n",
    "plt.plot(train_acc_history, label='Training Accuracy')\n",
    "plt.plot(val_acc_history, label='Validation Accuracy')\n",
    "plt.xlabel('Epoch')\n",
    "plt.ylabel('Accuracy')\n",
    "plt.title('Training and Validation Accuracy over Epochs')\n",
    "plt.legend()\n",
    "plt.show()\n"
   ],
   "metadata": {
    "collapsed": false,
    "ExecuteTime": {
     "end_time": "2023-12-13T05:28:30.601436300Z",
     "start_time": "2023-12-13T05:26:09.689988400Z"
    }
   },
   "id": "b9947d7a88e17ad6"
  },
  {
   "cell_type": "code",
   "execution_count": 26,
   "outputs": [
    {
     "ename": "TypeError",
     "evalue": "'int' object is not callable",
     "output_type": "error",
     "traceback": [
      "\u001B[1;31m---------------------------------------------------------------------------\u001B[0m",
      "\u001B[1;31mTypeError\u001B[0m                                 Traceback (most recent call last)",
      "Cell \u001B[1;32mIn[26], line 3\u001B[0m\n\u001B[0;32m      1\u001B[0m \u001B[38;5;66;03m# 정확도 검증\u001B[39;00m\n\u001B[0;32m      2\u001B[0m \u001B[38;5;28;01mwith\u001B[39;00m torch\u001B[38;5;241m.\u001B[39mno_grad():\n\u001B[1;32m----> 3\u001B[0m        test_loss, test_acc \u001B[38;5;241m=\u001B[39m epoch(test_loader, mode\u001B[38;5;241m=\u001B[39m\u001B[38;5;124m'\u001B[39m\u001B[38;5;124mtest\u001B[39m\u001B[38;5;124m'\u001B[39m)\n\u001B[0;32m      4\u001B[0m        test_acc \u001B[38;5;241m=\u001B[39m \u001B[38;5;28mround\u001B[39m(test_acc, \u001B[38;5;241m4\u001B[39m)\n\u001B[0;32m      5\u001B[0m        test_loss \u001B[38;5;241m=\u001B[39m \u001B[38;5;28mround\u001B[39m(test_loss, \u001B[38;5;241m4\u001B[39m)\n",
      "\u001B[1;31mTypeError\u001B[0m: 'int' object is not callable"
     ]
    }
   ],
   "source": [
    "# 정확도 검증\n",
    "with torch.no_grad():\n",
    "       test_loss, test_acc = epoch(test_loader, mode='test')\n",
    "       test_acc = round(test_acc, 4)\n",
    "       test_loss = round(test_loss, 4)\n",
    "       print('Test Acc.: {}'.format(test_acc))\n",
    "       print('Test Loss: {}'.format(test_loss))\n"
   ],
   "metadata": {
    "collapsed": false,
    "ExecuteTime": {
     "end_time": "2023-12-13T05:28:54.704510700Z",
     "start_time": "2023-12-13T05:28:54.688114700Z"
    }
   },
   "id": "2043856aefa7c707"
  },
  {
   "cell_type": "code",
   "execution_count": null,
   "outputs": [],
   "source": [
    "early_stopping = EarlyStopping(patience = 30, verbose = True)\n",
    "\n",
    "num_epochs = 200\n",
    "learning_rate = 1e-3\n",
    "input_size = 6\n",
    "hidden_size = 512\n",
    "num_layers = 2\n",
    "\n",
    "num_classes = 61\n",
    "# quantile = 0.3\n",
    "\n",
    "\n",
    "train_losses = []\n",
    "valid_losses = []\n",
    "\n",
    "\n",
    "lstm = LSTM2(num_classes, input_size, hidden_size, num_layers)\n",
    "lstm.to(device)\n",
    "\n",
    "lstm.apply(init_weights)\n",
    "\n",
    "# criterion = quantile_loss    # mean-squared error for regression\n",
    "criterion = torch.nn.NLLLoss()   # mean-squared error for regression\n",
    "optimizer = torch.optim.Adam(lstm.parameters(), lr=learning_rate,weight_decay= 1e-5)\n",
    "criterion = criterion.cuda()\n",
    "\n",
    "m = nn.Softmax(dim = 1)\n",
    "\n",
    "# optimizer = torch.optim.SGD(lstm.parameters(), lr=learning_rate,momentum=0.9)\n",
    "\n",
    "# scheduler = torch.optim.lr_scheduler.ReduceLROnPlateau(optimizer,  patience= 60, \n",
    "#           factor =0.1 ,min_lr=1e-6, eps=1e-08)\n",
    "\n",
    "# scheduler = torch.optim.lr_scheduler.MultiStepLR(optimizer, milestones=[100,700,900,1000], gamma=0.1)\n",
    "\n",
    "for epoch in progress_bar(range(num_epochs+1)):\n",
    "\n",
    "\n",
    "       # train\n",
    "\n",
    "       losses = []\n",
    "       for i, (input, target) in enumerate(train_dataloader):\n",
    "\n",
    "              lstm.train()\n",
    "              outputs = lstm(input.to(device))\n",
    "              optimizer.zero_grad()\n",
    "\n",
    "\n",
    "              # print(f'target shape: {target.shape}')\n",
    "              # print(f'outputs shape: {outputs.shape}')\n",
    "              # print(outputs[0])\n",
    "              # print(target[0])\n",
    "              loss = criterion(m(outputs), target.type(torch.long).to(device))\n",
    "              loss.backward()\n",
    "\n",
    "              # scheduler.step()\n",
    "              # torch.nn.utils.clip_grad_norm_(lstm.parameters(), 10)\n",
    "\n",
    "              optimizer.step()\n",
    "              losses.append(loss.item())\n",
    "\n",
    "       train_losses.append(np.mean(np.array(losses)))\n",
    "\n",
    "       losses = []\n",
    "       for i, (input, target) in enumerate(train_dataloader):\n",
    "\n",
    "              lstm.eval()\n",
    "              valid = lstm(input.to(device))\n",
    "\n",
    "              #inverse\n",
    "              # valid = torch.from_numpy(scaler.inverse_transform(valid.cpu().detach().numpy()))\n",
    "\n",
    "              vall_loss = criterion(m(valid), target.type(torch.long).to(device))\n",
    "              # scheduler.step(vall_loss)\n",
    "              losses.append(vall_loss.item())\n",
    "\n",
    "       valid_losses.append(np.mean(np.array(losses)))\n",
    "\n",
    "\n",
    "\n",
    "       if epoch % 10 == 0:\n",
    "              # print(criterion1(outputs, y_train.to(device),quantile))\n",
    "\n",
    "              print(\"Epoch: %d, loss: %1.5f valid loss:  %1.5f lr: %1.5f \" %(epoch, train_losses[-1],valid_losses[-1],\n",
    "                                                                             optimizer.param_groups[0][\"lr\"]))\n",
    "\n",
    "       torch.save(lstm.state_dict(), SAVEPATH+'model_weight.pth')\n",
    "       # model.load_state_dict(torch.load(SAVEPATH+'model_weight.pth'))\n",
    "\n",
    "       # early_stopping는 validation loss가 감소하였는지 확인이 필요하며,\n",
    "       # 만약 감소하였을경우 현제 모델을 checkpoint로 만든다.\n",
    "       early_stopping(round(valid_losses[-1],5), lstm)\n",
    "\n",
    "       if early_stopping.early_stop:\n",
    "              print(\"Epoch: %d, loss: %1.5f valid loss:  %1.5f lr: %1.5f \" %(epoch, train_losses[-1],valid_losses[-1],\n",
    "                                                                             optimizer.param_groups[0][\"lr\"]))\n",
    "              break"
   ],
   "metadata": {
    "collapsed": false
   },
   "id": "21dbba28f07a11d8"
  }
 ],
 "metadata": {
  "kernelspec": {
   "display_name": "Python 3",
   "language": "python",
   "name": "python3"
  },
  "language_info": {
   "codemirror_mode": {
    "name": "ipython",
    "version": 2
   },
   "file_extension": ".py",
   "mimetype": "text/x-python",
   "name": "python",
   "nbconvert_exporter": "python",
   "pygments_lexer": "ipython2",
   "version": "2.7.6"
  }
 },
 "nbformat": 4,
 "nbformat_minor": 5
}
