{
 "cells": [
  {
   "cell_type": "code",
   "execution_count": 1,
   "outputs": [],
   "source": [
    "import os\n",
    "import pandas as pd"
   ],
   "metadata": {
    "collapsed": false,
    "ExecuteTime": {
     "end_time": "2023-11-13T23:45:13.566083Z",
     "start_time": "2023-11-13T23:45:12.011216200Z"
    }
   },
   "id": "dd2bdfd2ddedf328"
  },
  {
   "cell_type": "code",
   "execution_count": 2,
   "outputs": [],
   "source": [
    "def check_length(df):\n",
    "    return len(df)"
   ],
   "metadata": {
    "collapsed": false,
    "ExecuteTime": {
     "end_time": "2023-11-13T23:46:17.500962800Z",
     "start_time": "2023-11-13T23:46:17.485336200Z"
    }
   },
   "id": "15d25a180d9f91a4"
  },
  {
   "cell_type": "code",
   "execution_count": 5,
   "outputs": [
    {
     "name": "stdout",
     "output_type": "stream",
     "text": [
      "max: 1912 min: 46\n",
      "[252, 212, 193, 960, 134, 51, 48, 46, 217, 132, 166, 76, 120, 170, 135, 147, 70, 130, 128, 219, 187, 211, 81, 147, 76, 100, 1912, 1803, 1665, 648, 1841, 1761, 1716]\n",
      "['backward_15.mp4.csv', 'backward_3.mp4.csv', 'backward_8.mp4.csv', 'sit_3.mp4.csv', 'slide_1.mp4.csv', 'slide_11.mp4.csv', 'slide_12.mp4.csv', 'slide_13.mp4.csv', 'slide_14.mp4.csv', 'slide_15.mp4.csv', 'slide_16.mp4.csv', 'slide_18.mp4.csv', 'slide_19.mp4.csv', 'slide_2.mp4.csv', 'slide_20.mp4.csv', 'slide_21.mp4.csv', 'slide_22.mp4.csv', 'slide_23.mp4.csv', 'slide_24.mp4.csv', 'slide_3.mp4.csv', 'slide_4.mp4.csv', 'slide_5.mp4.csv', 'slide_6.mp4.csv', 'slide_7.mp4.csv', 'slide_8.mp4.csv', 'slide_9.mp4.csv', 'swing_10.mp4.csv', 'swing_11.mp4.csv', 'swing_12.mp4.csv', 'swing_17.mp4.csv', 'swing_6.mp4.csv', 'walk_1.mp4.csv', 'walk_2.mp4.csv']\n"
     ]
    }
   ],
   "source": [
    "folder_path = '../csv_1031'\n",
    "all_length = []\n",
    "fie = []\n",
    "for file in os.listdir(folder_path):\n",
    "    file_path = os.path.join(folder_path, file)\n",
    "    df = pd.read_csv(file_path)\n",
    "    fie.append(file)\n",
    "    all_length.append(check_length(df))\n",
    "\n",
    "print('max:', max(all_length), 'min:', min(all_length))\n",
    "print(all_length)    \n",
    "print(fie)"
   ],
   "metadata": {
    "collapsed": false,
    "ExecuteTime": {
     "end_time": "2023-11-13T23:50:26.310215Z",
     "start_time": "2023-11-13T23:50:24.360211500Z"
    }
   },
   "id": "initial_id"
  },
  {
   "cell_type": "code",
   "execution_count": null,
   "outputs": [],
   "source": [],
   "metadata": {
    "collapsed": false
   },
   "id": "ebc79c7deaee9c35"
  }
 ],
 "metadata": {
  "kernelspec": {
   "display_name": "Python 3",
   "language": "python",
   "name": "python3"
  },
  "language_info": {
   "codemirror_mode": {
    "name": "ipython",
    "version": 2
   },
   "file_extension": ".py",
   "mimetype": "text/x-python",
   "name": "python",
   "nbconvert_exporter": "python",
   "pygments_lexer": "ipython2",
   "version": "2.7.6"
  }
 },
 "nbformat": 4,
 "nbformat_minor": 5
}
