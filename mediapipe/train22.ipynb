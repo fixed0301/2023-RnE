{
 "cells": [
  {
   "cell_type": "code",
   "execution_count": 51,
   "outputs": [],
   "source": [
    "import os\n",
    "import random\n",
    "import cv2\n",
    "import pandas as pd\n",
    "import torch\n",
    "import torch.nn as nn\n",
    "import matplotlib.pyplot as plt\n",
    "import mediapipe as mp\n",
    "import numpy as np\n",
    "from torch.optim import Adam\n",
    "from torch.utils.data import Dataset, DataLoader, random_split\n",
    "import tensorflow\n",
    "from tensorflow.python.client import device_lib"
   ],
   "metadata": {
    "collapsed": false,
    "ExecuteTime": {
     "end_time": "2023-12-11T06:18:57.082026600Z",
     "start_time": "2023-12-11T06:18:57.066080100Z"
    }
   },
   "id": "91a24a48c60e7953"
  },
  {
   "cell_type": "code",
   "execution_count": 52,
   "outputs": [
    {
     "data": {
      "text/plain": "True"
     },
     "execution_count": 52,
     "metadata": {},
     "output_type": "execute_result"
    }
   ],
   "source": [
    "torch.cuda.is_available()"
   ],
   "metadata": {
    "collapsed": false,
    "ExecuteTime": {
     "end_time": "2023-12-11T06:18:58.402341500Z",
     "start_time": "2023-12-11T06:18:58.394367400Z"
    }
   },
   "id": "2a6bb59c8c16479c"
  },
  {
   "cell_type": "code",
   "execution_count": 8,
   "outputs": [],
   "source": [
    "def seed_everything(seed: int = 24):\n",
    "       random.seed(seed)\n",
    "       np.random.seed(seed)\n",
    "       # torch.cuda.manual_seed(seed)\n",
    "       # torch.backends.cudnn.deterministic = True\n",
    "seed_everything()"
   ],
   "metadata": {
    "collapsed": false,
    "ExecuteTime": {
     "end_time": "2023-12-11T05:47:54.550393Z",
     "start_time": "2023-12-11T05:47:54.539429100Z"
    }
   },
   "id": "18a26b6e0c9bac97"
  },
  {
   "cell_type": "code",
   "execution_count": 9,
   "outputs": [],
   "source": [
    "tot_actions = 5\n",
    "actions_name = 'backward', 'sit', 'slide', 'swing', 'walk'\n",
    "min_data_len = 45"
   ],
   "metadata": {
    "collapsed": false,
    "ExecuteTime": {
     "end_time": "2023-12-11T05:47:55.048233200Z",
     "start_time": "2023-12-11T05:47:55.031290500Z"
    }
   },
   "id": "initial_id"
  },
  {
   "cell_type": "code",
   "execution_count": null,
   "outputs": [],
   "source": [
    "# discard unnecessary\n",
    "\n",
    "for file in os.listdir('../csv_1031'):\n",
    "       df = pd.read_csv(os.path.join('../csv_1031',file)"
   ],
   "metadata": {
    "collapsed": false
   },
   "id": "7a6f9f4273ce9d96"
  },
  {
   "cell_type": "code",
   "execution_count": 19,
   "outputs": [],
   "source": [
    "actions_csv_dir = '../csv_1031/'\n",
    "dataset = []\n",
    "\n",
    "label_mapping = {'backward': 0,\n",
    "                 'sit': 1,\n",
    "                 'slide': 2,\n",
    "                 'swing': 3,\n",
    "                 'walk' : 4\n",
    "                 }\n",
    "\n",
    "def map_action_to_label(csv_name):\n",
    "       for action, label in label_mapping.items():\n",
    "              if action in csv_name.split('_')[0]:\n",
    "                     return label\n",
    "       return -1\n",
    "\n",
    "for action_csv in os.listdir(actions_csv_dir):\n",
    "       action_df = pd.read_csv(os.path.join(actions_csv_dir, action_csv))\n",
    "       label = map_action_to_label(action_csv)\n",
    "       if label != -1:\n",
    "              for idx in range(0, len(action_df), int(min_data_len / 2)):\n",
    "                     seq_df = action_df[idx: idx + min_data_len] #길이만큼 데이터 자른 것(즉 length 만큼의 프레임)\n",
    "                     if len(seq_df) == min_data_len: # 딱 length에 개수 맞춰서 끊어서 넣으려고\n",
    "                            dataset.append({'key': label, 'value': seq_df}) # key에 slide, value에는 묶음 프레임 만큼이 담기겠네\n",
    "       #최종적으로 dataset에는 행동별로 dictionary 가 만들어져 들어간다."
   ],
   "metadata": {
    "collapsed": false,
    "ExecuteTime": {
     "end_time": "2023-12-11T05:48:44.958033200Z",
     "start_time": "2023-12-11T05:48:44.758561400Z"
    }
   },
   "id": "20776e1e9089a511"
  },
  {
   "cell_type": "code",
   "execution_count": 28,
   "outputs": [
    {
     "name": "stdout",
     "output_type": "stream",
     "text": [
      "      Nose_x    Nose_y    Nose_z  LEye_in_x  LEye_in_y  LEye_in_z    LEye_x  \\\n",
      "0   0.529178  0.469441  0.159390   0.521954   0.459262   0.131656  0.516659   \n",
      "1   0.533761  0.471265  0.131279   0.526999   0.460200   0.107506  0.522267   \n",
      "2   0.537234  0.473547  0.130224   0.530862   0.462024   0.105122  0.526176   \n",
      "3   0.541347  0.473582  0.134560   0.534914   0.461973   0.107922  0.530146   \n",
      "4   0.544573  0.473718  0.142126   0.537599   0.462001   0.109331  0.532539   \n",
      "5   0.544895  0.473676  0.185405   0.537446   0.461991   0.141218  0.532060   \n",
      "6   0.545285  0.473608  0.207851   0.537822   0.461922   0.161072  0.532282   \n",
      "7   0.546466  0.471301  0.204747   0.539325   0.460225   0.158107  0.534083   \n",
      "8   0.548138  0.470216  0.215264   0.541445   0.459510   0.166464  0.536139   \n",
      "9   0.549583  0.470341  0.230958   0.543714   0.459808   0.182345  0.538515   \n",
      "10  0.550495  0.471813  0.244705   0.545803   0.461264   0.197209  0.541062   \n",
      "11  0.552844  0.473246  0.230610   0.548210   0.462429   0.185498  0.543113   \n",
      "12  0.554935  0.474878  0.208041   0.549985   0.464142   0.167412  0.544798   \n",
      "13  0.555960  0.475266  0.190294   0.551053   0.464321   0.146400  0.545514   \n",
      "14  0.555841  0.476519  0.190401   0.550738   0.465555   0.145435  0.545096   \n",
      "15  0.555477  0.479085  0.182158   0.550272   0.468555   0.138327  0.544677   \n",
      "16  0.556373  0.482020  0.169056   0.550810   0.471507   0.127596  0.545041   \n",
      "17  0.558087  0.483731  0.163850   0.552041   0.473425   0.122267  0.546098   \n",
      "18  0.557869  0.485318  0.179145   0.551841   0.475257   0.135750  0.545923   \n",
      "19  0.557040  0.487087  0.210305   0.551365   0.477476   0.162949  0.545544   \n",
      "20  0.553675  0.487947  0.220833   0.548885   0.478789   0.173067  0.543367   \n",
      "21  0.551556  0.490609  0.241247   0.546762   0.481782   0.193448  0.541505   \n",
      "22  0.550512  0.492712  0.242631   0.545701   0.484014   0.195345  0.540664   \n",
      "23  0.548989  0.494607  0.246233   0.544338   0.486118   0.197876  0.539563   \n",
      "24  0.547285  0.495193  0.260935   0.543086   0.487395   0.210126  0.538503   \n",
      "25  0.545488  0.495742  0.260198   0.541843   0.487769   0.209327  0.537375   \n",
      "26  0.542447  0.499164  0.276020   0.539018   0.491714   0.225204  0.534934   \n",
      "27  0.542256  0.501829  0.286009   0.538977   0.494533   0.236632  0.534921   \n",
      "28  0.542414  0.504387  0.272917   0.539216   0.497488   0.224134  0.536078   \n",
      "29  0.541451  0.506321  0.232113   0.539303   0.499683   0.184540  0.536924   \n",
      "30  0.546086  0.510048  0.301686   0.542974   0.502357   0.255823  0.540137   \n",
      "31  0.546824  0.512392  0.299742   0.543283   0.504666   0.254525  0.540254   \n",
      "32  0.546676  0.516490  0.329891   0.543178   0.509446   0.286137  0.540216   \n",
      "33  0.545252  0.516358  0.249383   0.543198   0.509837   0.216014  0.541290   \n",
      "34  0.544654  0.517441  0.318663   0.542214   0.511155   0.276837  0.539892   \n",
      "35  0.540606  0.518001  0.313704   0.540606   0.512003   0.268004  0.539272   \n",
      "36  0.534552  0.517729 -0.021795   0.537901   0.512048  -0.031441  0.538490   \n",
      "37  0.528646  0.516768 -0.390269   0.535315   0.511248  -0.370989  0.538013   \n",
      "38  0.524010  0.516186 -0.396482   0.532128   0.511159  -0.374701  0.536291   \n",
      "39  0.519545  0.515195 -0.205206   0.526743   0.510926  -0.180346  0.530993   \n",
      "40  0.519342  0.513765 -0.121640   0.525689   0.510675  -0.099293  0.529579   \n",
      "41  0.517821  0.514381  0.507121   0.519974   0.510764   0.487897  0.520765   \n",
      "42  0.517278  0.514437  0.674412   0.519026   0.510859   0.680236  0.519400   \n",
      "43  0.514242  0.514411  0.569034   0.512621   0.510718   0.550187  0.510415   \n",
      "44  0.512457  0.512214  0.355836   0.514046   0.509035   0.330182  0.513633   \n",
      "\n",
      "      LEye_y    LEye_z  LEye_out_x  ...   LHeel_z   RHeel_x   RHeel_y  \\\n",
      "0   0.458761  0.131629    0.511359  ...  0.335818  0.445553  0.938120   \n",
      "1   0.459539  0.107506    0.517602  ...  0.312387  0.447574  0.940599   \n",
      "2   0.461209  0.105127    0.521649  ...  0.288849  0.449294  0.941738   \n",
      "3   0.461172  0.107924    0.525479  ...  0.299215  0.450589  0.942226   \n",
      "4   0.461196  0.109329    0.527558  ...  0.304611  0.451948  0.942456   \n",
      "5   0.461184  0.141234    0.526816  ...  0.342958  0.453019  0.943377   \n",
      "6   0.461098  0.161096    0.526877  ...  0.339338  0.454531  0.943464   \n",
      "7   0.459521  0.158111    0.529076  ...  0.299685  0.455505  0.943439   \n",
      "8   0.458822  0.166467    0.531072  ...  0.303760  0.457220  0.943475   \n",
      "9   0.459147  0.182340    0.533604  ...  0.254364  0.457244  0.943452   \n",
      "10  0.460649  0.197215    0.536579  ...  0.212191  0.458497  0.942000   \n",
      "11  0.461750  0.185515    0.538189  ...  0.321013  0.457055  0.941825   \n",
      "12  0.463360  0.167393    0.539707  ...  0.419389  0.456383  0.941243   \n",
      "13  0.463497  0.146373    0.540094  ...  0.496558  0.455819  0.939939   \n",
      "14  0.464633  0.145413    0.539605  ...  0.530075  0.452620  0.938970   \n",
      "15  0.467521  0.138316    0.539266  ...  0.633178  0.450773  0.936724   \n",
      "16  0.470307  0.127597    0.539422  ...  0.673024  0.450811  0.934293   \n",
      "17  0.472192  0.122265    0.540263  ...  0.784518  0.450837  0.933242   \n",
      "18  0.474036  0.135729    0.540083  ...  0.788250  0.451251  0.931416   \n",
      "19  0.476265  0.162922    0.539720  ...  0.750445  0.451507  0.930497   \n",
      "20  0.477650  0.173045    0.537681  ...  0.732954  0.451944  0.929544   \n",
      "21  0.480667  0.193421    0.535983  ...  0.725587  0.452299  0.930007   \n",
      "22  0.482932  0.195313    0.535341  ...  0.710926  0.452374  0.930163   \n",
      "23  0.485135  0.197841    0.534460  ...  0.729948  0.452704  0.929446   \n",
      "24  0.486392  0.210095    0.533644  ...  0.648644  0.454053  0.926688   \n",
      "25  0.486796  0.209283    0.532699  ...  0.641466  0.454207  0.926803   \n",
      "26  0.490792  0.225164    0.530691  ...  0.533754  0.457731  0.926844   \n",
      "27  0.493653  0.236596    0.530709  ...  0.508220  0.462981  0.926932   \n",
      "28  0.496861  0.224101    0.533142  ...  0.403161  0.467569  0.924242   \n",
      "29  0.499294  0.184502    0.535374  ...  0.404083  0.470892  0.922497   \n",
      "30  0.501640  0.255781    0.537839  ...  0.635661  0.460168  0.923137   \n",
      "31  0.503818  0.254497    0.537723  ...  0.619512  0.456482  0.920584   \n",
      "32  0.508827  0.286131    0.537628  ...  0.319242  0.468449  0.922502   \n",
      "33  0.509592  0.216018    0.540771  ...  0.164088  0.477126  0.921968   \n",
      "34  0.510747  0.276835    0.538582  ...  0.245266  0.477358  0.922210   \n",
      "35  0.511809  0.267982    0.538524  ...  0.152778  0.482429  0.920640   \n",
      "36  0.512074 -0.031432    0.538469  ...  0.040220  0.484069  0.917173   \n",
      "37  0.511404 -0.371023    0.538909  ...  0.062324  0.472052  0.899241   \n",
      "38  0.511521 -0.374720    0.538846  ...  0.198630  0.474891  0.905451   \n",
      "39  0.510972 -0.180425    0.534909  ...  0.226660  0.474719  0.901570   \n",
      "40  0.510739 -0.099382    0.533599  ...  0.238247  0.465704  0.844913   \n",
      "41  0.510845  0.487872    0.521616  ... -0.181229  0.475499  0.838672   \n",
      "42  0.511015  0.680229    0.519988  ... -0.287609  0.475351  0.835518   \n",
      "43  0.510819  0.550159    0.508037  ... -0.184765  0.472823  0.820738   \n",
      "44  0.509456  0.330147    0.512134  ... -0.080088  0.444521  0.822038   \n",
      "\n",
      "     RHeel_z  LFIndex_x  LFIndex_y  LFIndex_z  RFIndex_x  RFIndex_y  RFIndex_z  \n",
      "0   0.297406   0.389602   0.923644   0.315939   0.514571   0.914881   0.292225  \n",
      "1   0.237102   0.385313   0.923442   0.277450   0.510938   0.915009   0.210286  \n",
      "2   0.225288   0.381546   0.923336   0.251381   0.508514   0.915099   0.192756  \n",
      "3   0.265997   0.377569   0.922608   0.265571   0.504775   0.915250   0.196955  \n",
      "4   0.327801   0.373107   0.922673   0.272101   0.503247   0.915491   0.287281  \n",
      "5   0.379476   0.370444   0.923285   0.303329   0.501575   0.916438   0.341003  \n",
      "6   0.378065   0.370512   0.922874   0.301500   0.497105   0.916433   0.341679  \n",
      "7   0.361332   0.368892   0.922434   0.254578   0.494129   0.916400   0.326042  \n",
      "8   0.363661   0.369514   0.921828   0.262942   0.495037   0.916357   0.325557  \n",
      "9   0.309920   0.369421   0.921447   0.198314   0.495795   0.916293   0.258460  \n",
      "10  0.260626   0.369159   0.920179   0.148607   0.492584   0.916327   0.205912  \n",
      "11  0.308442   0.371018   0.915072   0.262341   0.492672   0.914393   0.242722  \n",
      "12  0.372224   0.385561   0.894946   0.376032   0.497834   0.910987   0.325965  \n",
      "13  0.422650   0.394092   0.876916   0.468131   0.498420   0.907094   0.387340  \n",
      "14  0.407598   0.394680   0.867420   0.506695   0.498345   0.906811   0.366447  \n",
      "15  0.398086   0.403025   0.858120   0.614480   0.498682   0.907162   0.348558  \n",
      "16  0.387148   0.409074   0.852172   0.658150   0.499204   0.907449   0.345950  \n",
      "17  0.337527   0.409332   0.836794   0.775961   0.498746   0.910291   0.264806  \n",
      "18  0.216848   0.410452   0.833480   0.771336   0.498591   0.912682   0.128410  \n",
      "19  0.184857   0.426213   0.834449   0.730492   0.488817   0.916929   0.094652  \n",
      "20  0.202507   0.449203   0.842008   0.711996   0.484914   0.918373   0.117304  \n",
      "21  0.191459   0.467226   0.847523   0.704364   0.486031   0.919153   0.105982  \n",
      "22  0.159050   0.470897   0.848321   0.686525   0.484665   0.922407   0.070096  \n",
      "23  0.185567   0.470737   0.846563   0.708123   0.485447   0.921596   0.099594  \n",
      "24  0.201385   0.465627   0.848110   0.619931   0.484910   0.920134   0.118931  \n",
      "25  0.202260   0.466890   0.843710   0.615365   0.485072   0.919843   0.121632  \n",
      "26  0.086260   0.467580   0.855479   0.497975   0.482864   0.923225  -0.002279  \n",
      "27  0.217119   0.477999   0.876660   0.463361   0.483251   0.922518   0.138553  \n",
      "28  0.222635   0.472395   0.885064   0.358441   0.483143   0.919488   0.151143  \n",
      "29  0.164998   0.476021   0.887016   0.340236   0.476169   0.919875   0.067858  \n",
      "30  0.106724   0.482909   0.823095   0.637720   0.479086   0.920122   0.031692  \n",
      "31  0.076375   0.483006   0.832257   0.608228   0.484618   0.919658   0.003414  \n",
      "32  0.056679   0.484917   0.883757   0.265451   0.487476   0.919183  -0.025845  \n",
      "33  0.082376   0.490859   0.898565   0.060390   0.487863   0.917445  -0.033205  \n",
      "34  0.098542   0.487538   0.899583   0.178940   0.489047   0.916926   0.005809  \n",
      "35  0.109601   0.480704   0.912479   0.056320   0.487309   0.917298   0.018647  \n",
      "36  0.114613   0.481534   0.909514  -0.109342   0.472122   0.911071  -0.016663  \n",
      "37  0.113760   0.481279   0.909597  -0.126566   0.436501   0.909515  -0.060579  \n",
      "38  0.061112   0.479055   0.882514   0.061504   0.438557   0.909951  -0.126869  \n",
      "39 -0.151385   0.470235   0.859192   0.086089   0.468314   0.901140  -0.353323  \n",
      "40  0.126588   0.491465   0.864492   0.098510   0.470432   0.877043  -0.025040  \n",
      "41 -0.263056   0.460792   0.854942  -0.273609   0.487740   0.859248  -0.344220  \n",
      "42 -0.565421   0.463584   0.845721  -0.421816   0.500296   0.850379  -0.719857  \n",
      "43 -0.269831   0.454099   0.845427  -0.286440   0.497307   0.841174  -0.367759  \n",
      "44 -0.343037   0.458812   0.837418  -0.203758   0.484986   0.832862  -0.487726  \n",
      "\n",
      "[45 rows x 99 columns]\n"
     ]
    }
   ],
   "source": [
    "print(dataset[0]['value']) # z축 까지 99 (33 * 3)차원"
   ],
   "metadata": {
    "collapsed": false,
    "ExecuteTime": {
     "end_time": "2023-12-11T05:36:14.335134200Z",
     "start_time": "2023-12-11T05:36:14.319420200Z"
    }
   },
   "id": "d656657e15c7e45f"
  },
  {
   "cell_type": "code",
   "execution_count": 53,
   "outputs": [],
   "source": [
    "class MyDataset(Dataset):\n",
    "       def __init__(self, dataset): #모든 행동을 통합한 df가 들어가야함\n",
    "              self.x = []\n",
    "              self.y = []\n",
    "              for dic in dataset:\n",
    "                     self.y.append(dic['key']) #key 값에는 actions 들어감\n",
    "                     self.x.append(dic['value']) #action마다의 data 들어감\n",
    "\n",
    "       def __getitem__(self, index): #index는 행동의 index\n",
    "              data = self.x[index] # x에는 꺼내 쓸 (행동마다 45개 묶음프레임)의 데이터\n",
    "              label = self.y[index]\n",
    "              return torch.Tensor(np.array(data)), torch.tensor(np.array(int(label)))\n",
    "\n",
    "       def __len__(self):\n",
    "              return len(self.x)\n"
   ],
   "metadata": {
    "collapsed": false,
    "ExecuteTime": {
     "end_time": "2023-12-11T06:19:08.510624300Z",
     "start_time": "2023-12-11T06:19:08.498664400Z"
    }
   },
   "id": "f6106f1224437afe"
  },
  {
   "cell_type": "code",
   "execution_count": 54,
   "outputs": [
    {
     "name": "stdout",
     "output_type": "stream",
     "text": [
      "664\n",
      "464, 99, 101\n"
     ]
    }
   ],
   "source": [
    "train_test_val_ratio = [0.7, 0.15, 0.15]\n",
    "print(len(dataset))\n",
    "train_len = int(len(dataset) * train_test_val_ratio[0])\n",
    "val_len = int(len(dataset) * train_test_val_ratio[1])\n",
    "test_len = len(dataset) - train_len - val_len\n",
    "print('{}, {}, {}'.format(train_len, val_len, test_len))"
   ],
   "metadata": {
    "collapsed": false,
    "ExecuteTime": {
     "end_time": "2023-12-11T06:19:12.097517800Z",
     "start_time": "2023-12-11T06:19:12.082567600Z"
    }
   },
   "id": "ba330d25c6c6f524"
  },
  {
   "cell_type": "code",
   "execution_count": 55,
   "outputs": [],
   "source": [
    "CFG = {'batch_size': 8, \n",
    "       'learning_rate': 1e-4,\n",
    "       'seed': 24,\n",
    "       'epochs': 30\n",
    "}"
   ],
   "metadata": {
    "collapsed": false,
    "ExecuteTime": {
     "end_time": "2023-12-11T06:19:12.755405300Z",
     "start_time": "2023-12-11T06:19:12.750421800Z"
    }
   },
   "id": "14d2065c8d4dc0c6"
  },
  {
   "cell_type": "code",
   "execution_count": 56,
   "outputs": [],
   "source": [
    "train_dataset = MyDataset(dataset)\n",
    "train_data, valid_data, test_data = random_split(train_dataset, [train_len, val_len, test_len])\n",
    "\n",
    "train_loader = DataLoader(train_data, batch_size=CFG['batch_size'])\n",
    "val_loader = DataLoader(valid_data, batch_size=CFG['batch_size'])\n",
    "test_loader = DataLoader(test_data, batch_size=CFG['batch_size'])"
   ],
   "metadata": {
    "collapsed": false,
    "ExecuteTime": {
     "end_time": "2023-12-11T06:19:15.558719700Z",
     "start_time": "2023-12-11T06:19:15.550746600Z"
    }
   },
   "id": "9fa7ab00e37041cc"
  },
  {
   "cell_type": "code",
   "execution_count": 57,
   "outputs": [],
   "source": [
    "from sklearn.utils import shuffle\n",
    "\n",
    "def shuffle_dataset(lm_list, label_list):\n",
    "       lm_list, label_list = shuffle(lm_list, label_list, random_state=42)\n",
    "       return lm_list, label_list"
   ],
   "metadata": {
    "collapsed": false,
    "ExecuteTime": {
     "end_time": "2023-12-11T06:19:16.563980100Z",
     "start_time": "2023-12-11T06:19:16.552988Z"
    }
   },
   "id": "c7be83410625fd04"
  },
  {
   "cell_type": "code",
   "execution_count": 25,
   "outputs": [],
   "source": [
    "class Model(nn.Module):\n",
    "       def __init__(self):\n",
    "              super(Model, self).__init__()\n",
    "              self.hidden_size=128\n",
    "              self.lstm = nn.LSTM(input_size=99, hidden_size=128, batch_first=True)\n",
    "              self.fc = nn.Linear(128, 5)\n",
    "              # self.lstm1 = nn.LSTM(input_size=99, hidden_size=128, num_layers=1, batch_first=True) \n",
    "              # self.lstm2 = nn.LSTM(input_size=128, hidden_size=256, num_layers=1, batch_first=True)\n",
    "              # self.lstm3 = nn.LSTM(input_size=256, hidden_size=512, num_layers=1, batch_first=True)\n",
    "              # self.dropout1 = nn.Dropout(0, 1)\n",
    "              # self.lstm4 = nn.LSTM(input_size=512, hidden_size=256, num_layers=1, batch_first=True)\n",
    "              # self.lstm5 = nn.LSTM(input_size=256, hidden_size=128, num_layers=1, batch_first=True)\n",
    "              # self.lstm6 = nn.LSTM(input_size=128, hidden_size=64, num_layers=1, batch_first=True)\n",
    "              # self.dropout2 = nn.Dropout(0, 1)\n",
    "              # self.lstm7 = nn.LSTM(input_size=64, hidden_size=32, num_layers=1, batch_first=True)\n",
    "              # self.fc = nn.Linear(32, 5) #분류할 클래스 5가지\n",
    "\n",
    "       def forward(self, x):\n",
    "              h0 = torch.zeros(1, x.size(0), self.hidden_size).to(x.device)\n",
    "              c0 = torch.zeros(1, x.size(0), self.hidden_size).to(x.device)\n",
    "              out, _ = self.lstm(0, (h0, c0))\n",
    "              out = self.fc(out[:,-1, -1])\n",
    "              out = nn.functional.softmax(out, dim=1)\n",
    "              # x, _ = self.lstm1(x)\n",
    "              # x, _ = self.lstm2(x)\n",
    "              # x, _ = self.lstm3(x)\n",
    "              # x = self.dropout1(x)\n",
    "              # x, _ = self.lstm4(x)\n",
    "              # x, _ = self.lstm5(x)\n",
    "              # x, _ = self.lstm6(x)\n",
    "              # x = self.dropout2(x)\n",
    "              # x, _ = self.lstm7(x)\n",
    "              # x = self.fc(x[:, -1, :])\n",
    "              return x"
   ],
   "metadata": {
    "collapsed": false,
    "ExecuteTime": {
     "end_time": "2023-12-11T05:48:55.671486500Z",
     "start_time": "2023-12-11T05:48:55.667499400Z"
    }
   },
   "id": "d712906be6495443"
  },
  {
   "cell_type": "code",
   "execution_count": 26,
   "outputs": [],
   "source": [
    "class Model(nn.Module):\n",
    "       def __init__(self):\n",
    "              super(Model, self).__init__()\n",
    "\n",
    "              ############## 1st To Do (20 points) ##############\n",
    "              ###################################################\n",
    "              self.recurrent_layer = nn.LSTM(hidden_size=100, input_size=99,  bidirectional=True)\n",
    "\n",
    "              self.nonLin = nn.BatchNorm1d(45)\n",
    "              self.recurrent_layer2 = nn.LSTM(hidden_size=100, input_size=200, bidirectional=True)\n",
    "              self.nonLin2 = nn.BatchNorm1d(45)\n",
    "              self.conv = nn.Conv1d(45,36,7,1)\n",
    "              self.relu1 = nn.Softmax()\n",
    "              self.classify_layer = nn.Linear(194, 5)\n",
    "              ###################################################\n",
    "\n",
    "       # the size of input is [batch_size, seq_len(15), input_dim(75)]\n",
    "       # the size of logits is [batch_size, num_class]\n",
    "       def forward(self, input, h_t_1=None, c_t_1=None):\n",
    "              # the size of rnn_outputs is [batch_size, seq_len, rnn_size]\n",
    "              rnn_outputs, (hn, cn) = self.recurrent_layer(input)\n",
    "              lin1 = self.nonLin(rnn_outputs)\n",
    "\n",
    "              rnn_outputs2, (hn2, cn2) = self.recurrent_layer2(lin1)\n",
    "\n",
    "              lin2 = self.nonLin2(rnn_outputs2)\n",
    "              conv = self.conv(lin2)\n",
    "              relu = self.relu1(conv)\n",
    "\n",
    "              logits = self.classify_layer(relu[:,-1])\n",
    "              return logits\n"
   ],
   "metadata": {
    "collapsed": false,
    "ExecuteTime": {
     "end_time": "2023-12-11T05:48:56.342679400Z",
     "start_time": "2023-12-11T05:48:56.325693900Z"
    }
   },
   "id": "19844f8477cf9c27"
  },
  {
   "cell_type": "code",
   "execution_count": 58,
   "outputs": [],
   "source": [
    "class Model2(nn.Module):\n",
    "       def __init__(self):\n",
    "              super(Model2, self).__init__()\n",
    "              self.lstm1 = nn.LSTM(input_size=99, hidden_size=128, num_layers=1, ) \n",
    "              self.lstm2 = nn.LSTM(input_size=128, hidden_size=256, num_layers=1,)\n",
    "              self.lstm3 = nn.LSTM(input_size=256, hidden_size=512, num_layers=1,)\n",
    "              self.dropout1 = nn.Dropout(0.5)\n",
    "              self.lstm4 = nn.LSTM(input_size=512, hidden_size=256, num_layers=1,)\n",
    "              self.lstm5 = nn.LSTM(input_size=256, hidden_size=128, num_layers=1,)\n",
    "              self.lstm6 = nn.LSTM(input_size=128, hidden_size=64, num_layers=1,)\n",
    "              self.dropout2 = nn.Dropout(0.5)\n",
    "              self.lstm7 = nn.LSTM(input_size=64, hidden_size=32, num_layers=1,)\n",
    "              self.fc = nn.Linear(32, 5) #분류할 클래스 5가지\n",
    "\n",
    "       def forward(self, x):\n",
    "              x, _ = self.lstm1(x)\n",
    "              x, _ = self.lstm2(x)\n",
    "              x, _ = self.lstm3(x)\n",
    "              x = self.dropout1(x)\n",
    "              x, _ = self.lstm4(x)\n",
    "              x, _ = self.lstm5(x)\n",
    "              x, _ = self.lstm6(x)\n",
    "              x = self.dropout2(x)\n",
    "              x, _ = self.lstm7(x)\n",
    "              x = self.fc(x[:, -1, :])\n",
    "              return x"
   ],
   "metadata": {
    "collapsed": false,
    "ExecuteTime": {
     "end_time": "2023-12-11T06:19:24.585679600Z",
     "start_time": "2023-12-11T06:19:24.580695800Z"
    }
   },
   "id": "8582b3f9c426de85"
  },
  {
   "cell_type": "code",
   "execution_count": 59,
   "outputs": [
    {
     "name": "stdout",
     "output_type": "stream",
     "text": [
      "torch.Size([8, 45, 99])\n"
     ]
    }
   ],
   "source": [
    "# for data, label in test_loader:\n",
    "#        print('data:', len(data)) # 배치만큼 출력하니까 'data: .  8.. '\n",
    "d = []\n",
    "l = []\n",
    "for data, label in test_loader:\n",
    "       d.append(data)\n",
    "       l.append(label)\n",
    "print(d[0].shape) # 8개 잡은 배치, 45개 seqence 길이, 99 차원"
   ],
   "metadata": {
    "collapsed": false,
    "ExecuteTime": {
     "end_time": "2023-12-11T06:19:26.976504Z",
     "start_time": "2023-12-11T06:19:26.962673600Z"
    }
   },
   "id": "8883e47fa66b3b43"
  },
  {
   "cell_type": "code",
   "execution_count": 60,
   "outputs": [
    {
     "name": "stdout",
     "output_type": "stream",
     "text": [
      "Epoch: 0 - Loss: 1.626299\n",
      "Epoch: 0 - Loss: 1.586203\n",
      "Epoch: 0 - valid Loss: 1.566888 - valid_acc : 0.326923\n",
      "Epoch: 1 - Loss: 1.537027\n",
      "Epoch: 1 - Loss: 1.470422\n",
      "Epoch: 1 - valid Loss: 1.456533 - valid_acc : 0.429487\n",
      "Epoch: 2 - Loss: 1.449846\n",
      "Epoch: 2 - Loss: 1.365402\n",
      "Epoch: 2 - valid Loss: 1.423166 - valid_acc : 0.439103\n",
      "Epoch: 3 - Loss: 1.371949\n",
      "Epoch: 3 - Loss: 1.317908\n",
      "Epoch: 3 - valid Loss: 1.428178 - valid_acc : 0.439103\n",
      "Epoch: 4 - Loss: 1.418616\n",
      "Epoch: 4 - Loss: 1.293901\n",
      "Epoch: 4 - valid Loss: 1.434880 - valid_acc : 0.439103\n",
      "Epoch: 5 - Loss: 1.437463\n",
      "Epoch: 5 - Loss: 1.221160\n",
      "Epoch: 5 - valid Loss: 1.439836 - valid_acc : 0.439103\n",
      "Epoch: 6 - Loss: 1.352807\n",
      "Epoch: 6 - Loss: 1.248215\n",
      "Epoch: 6 - valid Loss: 1.443526 - valid_acc : 0.439103\n",
      "Epoch: 7 - Loss: 1.397928\n",
      "Epoch: 7 - Loss: 1.217305\n",
      "Epoch: 7 - valid Loss: 1.446812 - valid_acc : 0.439103\n",
      "Epoch: 8 - Loss: 1.405640\n",
      "Epoch: 8 - Loss: 1.219226\n",
      "Epoch: 8 - valid Loss: 1.450785 - valid_acc : 0.439103\n",
      "Epoch: 9 - Loss: 1.341291\n",
      "Epoch: 9 - Loss: 1.216978\n",
      "Epoch: 9 - valid Loss: 1.454258 - valid_acc : 0.439103\n",
      "Epoch: 10 - Loss: 1.411978\n",
      "Epoch: 10 - Loss: 1.177104\n",
      "Epoch: 10 - valid Loss: 1.455076 - valid_acc : 0.439103\n",
      "Epoch: 11 - Loss: 1.415914\n",
      "Epoch: 11 - Loss: 1.204916\n",
      "Epoch: 11 - valid Loss: 1.456397 - valid_acc : 0.439103\n",
      "Epoch: 12 - Loss: 1.404962\n",
      "Epoch: 12 - Loss: 1.154845\n",
      "Epoch: 12 - valid Loss: 1.457455 - valid_acc : 0.439103\n",
      "Epoch: 13 - Loss: 1.367575\n",
      "Epoch: 13 - Loss: 1.173559\n",
      "Epoch: 13 - valid Loss: 1.457897 - valid_acc : 0.439103\n",
      "Epoch: 14 - Loss: 1.384025\n",
      "Epoch: 14 - Loss: 1.213873\n",
      "Epoch: 14 - valid Loss: 1.458465 - valid_acc : 0.439103\n",
      "Epoch: 15 - Loss: 1.383104\n",
      "Epoch: 15 - Loss: 1.145119\n",
      "Epoch: 15 - valid Loss: 1.459866 - valid_acc : 0.439103\n",
      "Epoch: 16 - Loss: 1.391603\n",
      "Epoch: 16 - Loss: 1.180554\n",
      "Epoch: 16 - valid Loss: 1.460418 - valid_acc : 0.439103\n",
      "Epoch: 17 - Loss: 1.379916\n",
      "Epoch: 17 - Loss: 1.187919\n",
      "Epoch: 17 - valid Loss: 1.461237 - valid_acc : 0.439103\n",
      "Epoch: 18 - Loss: 1.409254\n",
      "Epoch: 18 - Loss: 1.191821\n",
      "Epoch: 18 - valid Loss: 1.462284 - valid_acc : 0.439103\n",
      "Epoch: 19 - Loss: 1.376369\n",
      "Epoch: 19 - Loss: 1.200988\n",
      "Epoch: 19 - valid Loss: 1.462751 - valid_acc : 0.439103\n",
      "Epoch: 20 - Loss: 1.373911\n"
     ]
    },
    {
     "ename": "KeyboardInterrupt",
     "evalue": "",
     "output_type": "error",
     "traceback": [
      "\u001B[1;31m---------------------------------------------------------------------------\u001B[0m",
      "\u001B[1;31mKeyboardInterrupt\u001B[0m                         Traceback (most recent call last)",
      "Cell \u001B[1;32mIn[60], line 29\u001B[0m\n\u001B[0;32m     27\u001B[0m loss \u001B[38;5;241m=\u001B[39m criterion(outputs, targets)\n\u001B[0;32m     28\u001B[0m loss\u001B[38;5;241m.\u001B[39mbackward()\n\u001B[1;32m---> 29\u001B[0m \u001B[43moptimizer\u001B[49m\u001B[38;5;241;43m.\u001B[39;49m\u001B[43mstep\u001B[49m\u001B[43m(\u001B[49m\u001B[43m)\u001B[49m\n\u001B[0;32m     31\u001B[0m train_loss_list\u001B[38;5;241m.\u001B[39mappend(loss\u001B[38;5;241m.\u001B[39mitem())\n\u001B[0;32m     33\u001B[0m \u001B[38;5;28;01mif\u001B[39;00m (i\u001B[38;5;241m+\u001B[39m\u001B[38;5;241m1\u001B[39m) \u001B[38;5;241m%\u001B[39m \u001B[38;5;241m20\u001B[39m \u001B[38;5;241m==\u001B[39m \u001B[38;5;241m0\u001B[39m:\n",
      "File \u001B[1;32m~\\anaconda3\\envs\\py39\\lib\\site-packages\\torch\\optim\\lr_scheduler.py:68\u001B[0m, in \u001B[0;36mLRScheduler.__init__.<locals>.with_counter.<locals>.wrapper\u001B[1;34m(*args, **kwargs)\u001B[0m\n\u001B[0;32m     66\u001B[0m instance\u001B[38;5;241m.\u001B[39m_step_count \u001B[38;5;241m+\u001B[39m\u001B[38;5;241m=\u001B[39m \u001B[38;5;241m1\u001B[39m\n\u001B[0;32m     67\u001B[0m wrapped \u001B[38;5;241m=\u001B[39m func\u001B[38;5;241m.\u001B[39m\u001B[38;5;21m__get__\u001B[39m(instance, \u001B[38;5;28mcls\u001B[39m)\n\u001B[1;32m---> 68\u001B[0m \u001B[38;5;28;01mreturn\u001B[39;00m wrapped(\u001B[38;5;241m*\u001B[39margs, \u001B[38;5;241m*\u001B[39m\u001B[38;5;241m*\u001B[39mkwargs)\n",
      "File \u001B[1;32m~\\anaconda3\\envs\\py39\\lib\\site-packages\\torch\\optim\\optimizer.py:373\u001B[0m, in \u001B[0;36mOptimizer.profile_hook_step.<locals>.wrapper\u001B[1;34m(*args, **kwargs)\u001B[0m\n\u001B[0;32m    368\u001B[0m         \u001B[38;5;28;01melse\u001B[39;00m:\n\u001B[0;32m    369\u001B[0m             \u001B[38;5;28;01mraise\u001B[39;00m \u001B[38;5;167;01mRuntimeError\u001B[39;00m(\n\u001B[0;32m    370\u001B[0m                 \u001B[38;5;124mf\u001B[39m\u001B[38;5;124m\"\u001B[39m\u001B[38;5;132;01m{\u001B[39;00mfunc\u001B[38;5;132;01m}\u001B[39;00m\u001B[38;5;124m must return None or a tuple of (new_args, new_kwargs), but got \u001B[39m\u001B[38;5;132;01m{\u001B[39;00mresult\u001B[38;5;132;01m}\u001B[39;00m\u001B[38;5;124m.\u001B[39m\u001B[38;5;124m\"\u001B[39m\n\u001B[0;32m    371\u001B[0m             )\n\u001B[1;32m--> 373\u001B[0m out \u001B[38;5;241m=\u001B[39m func(\u001B[38;5;241m*\u001B[39margs, \u001B[38;5;241m*\u001B[39m\u001B[38;5;241m*\u001B[39mkwargs)\n\u001B[0;32m    374\u001B[0m \u001B[38;5;28mself\u001B[39m\u001B[38;5;241m.\u001B[39m_optimizer_step_code()\n\u001B[0;32m    376\u001B[0m \u001B[38;5;66;03m# call optimizer step post hooks\u001B[39;00m\n",
      "File \u001B[1;32m~\\anaconda3\\envs\\py39\\lib\\site-packages\\torch\\optim\\optimizer.py:76\u001B[0m, in \u001B[0;36m_use_grad_for_differentiable.<locals>._use_grad\u001B[1;34m(self, *args, **kwargs)\u001B[0m\n\u001B[0;32m     74\u001B[0m     torch\u001B[38;5;241m.\u001B[39mset_grad_enabled(\u001B[38;5;28mself\u001B[39m\u001B[38;5;241m.\u001B[39mdefaults[\u001B[38;5;124m'\u001B[39m\u001B[38;5;124mdifferentiable\u001B[39m\u001B[38;5;124m'\u001B[39m])\n\u001B[0;32m     75\u001B[0m     torch\u001B[38;5;241m.\u001B[39m_dynamo\u001B[38;5;241m.\u001B[39mgraph_break()\n\u001B[1;32m---> 76\u001B[0m     ret \u001B[38;5;241m=\u001B[39m func(\u001B[38;5;28mself\u001B[39m, \u001B[38;5;241m*\u001B[39margs, \u001B[38;5;241m*\u001B[39m\u001B[38;5;241m*\u001B[39mkwargs)\n\u001B[0;32m     77\u001B[0m \u001B[38;5;28;01mfinally\u001B[39;00m:\n\u001B[0;32m     78\u001B[0m     torch\u001B[38;5;241m.\u001B[39m_dynamo\u001B[38;5;241m.\u001B[39mgraph_break()\n",
      "File \u001B[1;32m~\\anaconda3\\envs\\py39\\lib\\site-packages\\torch\\optim\\adam.py:163\u001B[0m, in \u001B[0;36mAdam.step\u001B[1;34m(self, closure)\u001B[0m\n\u001B[0;32m    152\u001B[0m     beta1, beta2 \u001B[38;5;241m=\u001B[39m group[\u001B[38;5;124m'\u001B[39m\u001B[38;5;124mbetas\u001B[39m\u001B[38;5;124m'\u001B[39m]\n\u001B[0;32m    154\u001B[0m     \u001B[38;5;28mself\u001B[39m\u001B[38;5;241m.\u001B[39m_init_group(\n\u001B[0;32m    155\u001B[0m         group,\n\u001B[0;32m    156\u001B[0m         params_with_grad,\n\u001B[1;32m   (...)\u001B[0m\n\u001B[0;32m    160\u001B[0m         max_exp_avg_sqs,\n\u001B[0;32m    161\u001B[0m         state_steps)\n\u001B[1;32m--> 163\u001B[0m     \u001B[43madam\u001B[49m\u001B[43m(\u001B[49m\n\u001B[0;32m    164\u001B[0m \u001B[43m        \u001B[49m\u001B[43mparams_with_grad\u001B[49m\u001B[43m,\u001B[49m\n\u001B[0;32m    165\u001B[0m \u001B[43m        \u001B[49m\u001B[43mgrads\u001B[49m\u001B[43m,\u001B[49m\n\u001B[0;32m    166\u001B[0m \u001B[43m        \u001B[49m\u001B[43mexp_avgs\u001B[49m\u001B[43m,\u001B[49m\n\u001B[0;32m    167\u001B[0m \u001B[43m        \u001B[49m\u001B[43mexp_avg_sqs\u001B[49m\u001B[43m,\u001B[49m\n\u001B[0;32m    168\u001B[0m \u001B[43m        \u001B[49m\u001B[43mmax_exp_avg_sqs\u001B[49m\u001B[43m,\u001B[49m\n\u001B[0;32m    169\u001B[0m \u001B[43m        \u001B[49m\u001B[43mstate_steps\u001B[49m\u001B[43m,\u001B[49m\n\u001B[0;32m    170\u001B[0m \u001B[43m        \u001B[49m\u001B[43mamsgrad\u001B[49m\u001B[38;5;241;43m=\u001B[39;49m\u001B[43mgroup\u001B[49m\u001B[43m[\u001B[49m\u001B[38;5;124;43m'\u001B[39;49m\u001B[38;5;124;43mamsgrad\u001B[39;49m\u001B[38;5;124;43m'\u001B[39;49m\u001B[43m]\u001B[49m\u001B[43m,\u001B[49m\n\u001B[0;32m    171\u001B[0m \u001B[43m        \u001B[49m\u001B[43mbeta1\u001B[49m\u001B[38;5;241;43m=\u001B[39;49m\u001B[43mbeta1\u001B[49m\u001B[43m,\u001B[49m\n\u001B[0;32m    172\u001B[0m \u001B[43m        \u001B[49m\u001B[43mbeta2\u001B[49m\u001B[38;5;241;43m=\u001B[39;49m\u001B[43mbeta2\u001B[49m\u001B[43m,\u001B[49m\n\u001B[0;32m    173\u001B[0m \u001B[43m        \u001B[49m\u001B[43mlr\u001B[49m\u001B[38;5;241;43m=\u001B[39;49m\u001B[43mgroup\u001B[49m\u001B[43m[\u001B[49m\u001B[38;5;124;43m'\u001B[39;49m\u001B[38;5;124;43mlr\u001B[39;49m\u001B[38;5;124;43m'\u001B[39;49m\u001B[43m]\u001B[49m\u001B[43m,\u001B[49m\n\u001B[0;32m    174\u001B[0m \u001B[43m        \u001B[49m\u001B[43mweight_decay\u001B[49m\u001B[38;5;241;43m=\u001B[39;49m\u001B[43mgroup\u001B[49m\u001B[43m[\u001B[49m\u001B[38;5;124;43m'\u001B[39;49m\u001B[38;5;124;43mweight_decay\u001B[39;49m\u001B[38;5;124;43m'\u001B[39;49m\u001B[43m]\u001B[49m\u001B[43m,\u001B[49m\n\u001B[0;32m    175\u001B[0m \u001B[43m        \u001B[49m\u001B[43meps\u001B[49m\u001B[38;5;241;43m=\u001B[39;49m\u001B[43mgroup\u001B[49m\u001B[43m[\u001B[49m\u001B[38;5;124;43m'\u001B[39;49m\u001B[38;5;124;43meps\u001B[39;49m\u001B[38;5;124;43m'\u001B[39;49m\u001B[43m]\u001B[49m\u001B[43m,\u001B[49m\n\u001B[0;32m    176\u001B[0m \u001B[43m        \u001B[49m\u001B[43mmaximize\u001B[49m\u001B[38;5;241;43m=\u001B[39;49m\u001B[43mgroup\u001B[49m\u001B[43m[\u001B[49m\u001B[38;5;124;43m'\u001B[39;49m\u001B[38;5;124;43mmaximize\u001B[39;49m\u001B[38;5;124;43m'\u001B[39;49m\u001B[43m]\u001B[49m\u001B[43m,\u001B[49m\n\u001B[0;32m    177\u001B[0m \u001B[43m        \u001B[49m\u001B[43mforeach\u001B[49m\u001B[38;5;241;43m=\u001B[39;49m\u001B[43mgroup\u001B[49m\u001B[43m[\u001B[49m\u001B[38;5;124;43m'\u001B[39;49m\u001B[38;5;124;43mforeach\u001B[39;49m\u001B[38;5;124;43m'\u001B[39;49m\u001B[43m]\u001B[49m\u001B[43m,\u001B[49m\n\u001B[0;32m    178\u001B[0m \u001B[43m        \u001B[49m\u001B[43mcapturable\u001B[49m\u001B[38;5;241;43m=\u001B[39;49m\u001B[43mgroup\u001B[49m\u001B[43m[\u001B[49m\u001B[38;5;124;43m'\u001B[39;49m\u001B[38;5;124;43mcapturable\u001B[39;49m\u001B[38;5;124;43m'\u001B[39;49m\u001B[43m]\u001B[49m\u001B[43m,\u001B[49m\n\u001B[0;32m    179\u001B[0m \u001B[43m        \u001B[49m\u001B[43mdifferentiable\u001B[49m\u001B[38;5;241;43m=\u001B[39;49m\u001B[43mgroup\u001B[49m\u001B[43m[\u001B[49m\u001B[38;5;124;43m'\u001B[39;49m\u001B[38;5;124;43mdifferentiable\u001B[39;49m\u001B[38;5;124;43m'\u001B[39;49m\u001B[43m]\u001B[49m\u001B[43m,\u001B[49m\n\u001B[0;32m    180\u001B[0m \u001B[43m        \u001B[49m\u001B[43mfused\u001B[49m\u001B[38;5;241;43m=\u001B[39;49m\u001B[43mgroup\u001B[49m\u001B[43m[\u001B[49m\u001B[38;5;124;43m'\u001B[39;49m\u001B[38;5;124;43mfused\u001B[39;49m\u001B[38;5;124;43m'\u001B[39;49m\u001B[43m]\u001B[49m\u001B[43m,\u001B[49m\n\u001B[0;32m    181\u001B[0m \u001B[43m        \u001B[49m\u001B[43mgrad_scale\u001B[49m\u001B[38;5;241;43m=\u001B[39;49m\u001B[38;5;28;43mgetattr\u001B[39;49m\u001B[43m(\u001B[49m\u001B[38;5;28;43mself\u001B[39;49m\u001B[43m,\u001B[49m\u001B[43m \u001B[49m\u001B[38;5;124;43m\"\u001B[39;49m\u001B[38;5;124;43mgrad_scale\u001B[39;49m\u001B[38;5;124;43m\"\u001B[39;49m\u001B[43m,\u001B[49m\u001B[43m \u001B[49m\u001B[38;5;28;43;01mNone\u001B[39;49;00m\u001B[43m)\u001B[49m\u001B[43m,\u001B[49m\n\u001B[0;32m    182\u001B[0m \u001B[43m        \u001B[49m\u001B[43mfound_inf\u001B[49m\u001B[38;5;241;43m=\u001B[39;49m\u001B[38;5;28;43mgetattr\u001B[39;49m\u001B[43m(\u001B[49m\u001B[38;5;28;43mself\u001B[39;49m\u001B[43m,\u001B[49m\u001B[43m \u001B[49m\u001B[38;5;124;43m\"\u001B[39;49m\u001B[38;5;124;43mfound_inf\u001B[39;49m\u001B[38;5;124;43m\"\u001B[39;49m\u001B[43m,\u001B[49m\u001B[43m \u001B[49m\u001B[38;5;28;43;01mNone\u001B[39;49;00m\u001B[43m)\u001B[49m\u001B[43m,\u001B[49m\n\u001B[0;32m    183\u001B[0m \u001B[43m    \u001B[49m\u001B[43m)\u001B[49m\n\u001B[0;32m    185\u001B[0m \u001B[38;5;28;01mreturn\u001B[39;00m loss\n",
      "File \u001B[1;32m~\\anaconda3\\envs\\py39\\lib\\site-packages\\torch\\optim\\adam.py:311\u001B[0m, in \u001B[0;36madam\u001B[1;34m(params, grads, exp_avgs, exp_avg_sqs, max_exp_avg_sqs, state_steps, foreach, capturable, differentiable, fused, grad_scale, found_inf, amsgrad, beta1, beta2, lr, weight_decay, eps, maximize)\u001B[0m\n\u001B[0;32m    308\u001B[0m \u001B[38;5;28;01melse\u001B[39;00m:\n\u001B[0;32m    309\u001B[0m     func \u001B[38;5;241m=\u001B[39m _single_tensor_adam\n\u001B[1;32m--> 311\u001B[0m \u001B[43mfunc\u001B[49m\u001B[43m(\u001B[49m\u001B[43mparams\u001B[49m\u001B[43m,\u001B[49m\n\u001B[0;32m    312\u001B[0m \u001B[43m     \u001B[49m\u001B[43mgrads\u001B[49m\u001B[43m,\u001B[49m\n\u001B[0;32m    313\u001B[0m \u001B[43m     \u001B[49m\u001B[43mexp_avgs\u001B[49m\u001B[43m,\u001B[49m\n\u001B[0;32m    314\u001B[0m \u001B[43m     \u001B[49m\u001B[43mexp_avg_sqs\u001B[49m\u001B[43m,\u001B[49m\n\u001B[0;32m    315\u001B[0m \u001B[43m     \u001B[49m\u001B[43mmax_exp_avg_sqs\u001B[49m\u001B[43m,\u001B[49m\n\u001B[0;32m    316\u001B[0m \u001B[43m     \u001B[49m\u001B[43mstate_steps\u001B[49m\u001B[43m,\u001B[49m\n\u001B[0;32m    317\u001B[0m \u001B[43m     \u001B[49m\u001B[43mamsgrad\u001B[49m\u001B[38;5;241;43m=\u001B[39;49m\u001B[43mamsgrad\u001B[49m\u001B[43m,\u001B[49m\n\u001B[0;32m    318\u001B[0m \u001B[43m     \u001B[49m\u001B[43mbeta1\u001B[49m\u001B[38;5;241;43m=\u001B[39;49m\u001B[43mbeta1\u001B[49m\u001B[43m,\u001B[49m\n\u001B[0;32m    319\u001B[0m \u001B[43m     \u001B[49m\u001B[43mbeta2\u001B[49m\u001B[38;5;241;43m=\u001B[39;49m\u001B[43mbeta2\u001B[49m\u001B[43m,\u001B[49m\n\u001B[0;32m    320\u001B[0m \u001B[43m     \u001B[49m\u001B[43mlr\u001B[49m\u001B[38;5;241;43m=\u001B[39;49m\u001B[43mlr\u001B[49m\u001B[43m,\u001B[49m\n\u001B[0;32m    321\u001B[0m \u001B[43m     \u001B[49m\u001B[43mweight_decay\u001B[49m\u001B[38;5;241;43m=\u001B[39;49m\u001B[43mweight_decay\u001B[49m\u001B[43m,\u001B[49m\n\u001B[0;32m    322\u001B[0m \u001B[43m     \u001B[49m\u001B[43meps\u001B[49m\u001B[38;5;241;43m=\u001B[39;49m\u001B[43meps\u001B[49m\u001B[43m,\u001B[49m\n\u001B[0;32m    323\u001B[0m \u001B[43m     \u001B[49m\u001B[43mmaximize\u001B[49m\u001B[38;5;241;43m=\u001B[39;49m\u001B[43mmaximize\u001B[49m\u001B[43m,\u001B[49m\n\u001B[0;32m    324\u001B[0m \u001B[43m     \u001B[49m\u001B[43mcapturable\u001B[49m\u001B[38;5;241;43m=\u001B[39;49m\u001B[43mcapturable\u001B[49m\u001B[43m,\u001B[49m\n\u001B[0;32m    325\u001B[0m \u001B[43m     \u001B[49m\u001B[43mdifferentiable\u001B[49m\u001B[38;5;241;43m=\u001B[39;49m\u001B[43mdifferentiable\u001B[49m\u001B[43m,\u001B[49m\n\u001B[0;32m    326\u001B[0m \u001B[43m     \u001B[49m\u001B[43mgrad_scale\u001B[49m\u001B[38;5;241;43m=\u001B[39;49m\u001B[43mgrad_scale\u001B[49m\u001B[43m,\u001B[49m\n\u001B[0;32m    327\u001B[0m \u001B[43m     \u001B[49m\u001B[43mfound_inf\u001B[49m\u001B[38;5;241;43m=\u001B[39;49m\u001B[43mfound_inf\u001B[49m\u001B[43m)\u001B[49m\n",
      "File \u001B[1;32m~\\anaconda3\\envs\\py39\\lib\\site-packages\\torch\\optim\\adam.py:434\u001B[0m, in \u001B[0;36m_single_tensor_adam\u001B[1;34m(params, grads, exp_avgs, exp_avg_sqs, max_exp_avg_sqs, state_steps, grad_scale, found_inf, amsgrad, beta1, beta2, lr, weight_decay, eps, maximize, capturable, differentiable)\u001B[0m\n\u001B[0;32m    431\u001B[0m     \u001B[38;5;28;01melse\u001B[39;00m:\n\u001B[0;32m    432\u001B[0m         denom \u001B[38;5;241m=\u001B[39m (exp_avg_sq\u001B[38;5;241m.\u001B[39msqrt() \u001B[38;5;241m/\u001B[39m bias_correction2_sqrt)\u001B[38;5;241m.\u001B[39madd_(eps)\n\u001B[1;32m--> 434\u001B[0m     \u001B[43mparam\u001B[49m\u001B[38;5;241;43m.\u001B[39;49m\u001B[43maddcdiv_\u001B[49m\u001B[43m(\u001B[49m\u001B[43mexp_avg\u001B[49m\u001B[43m,\u001B[49m\u001B[43m \u001B[49m\u001B[43mdenom\u001B[49m\u001B[43m,\u001B[49m\u001B[43m \u001B[49m\u001B[43mvalue\u001B[49m\u001B[38;5;241;43m=\u001B[39;49m\u001B[38;5;241;43m-\u001B[39;49m\u001B[43mstep_size\u001B[49m\u001B[43m)\u001B[49m\n\u001B[0;32m    436\u001B[0m \u001B[38;5;66;03m# Lastly, switch back to complex view\u001B[39;00m\n\u001B[0;32m    437\u001B[0m \u001B[38;5;28;01mif\u001B[39;00m amsgrad \u001B[38;5;129;01mand\u001B[39;00m torch\u001B[38;5;241m.\u001B[39mis_complex(params[i]):\n",
      "\u001B[1;31mKeyboardInterrupt\u001B[0m: "
     ]
    }
   ],
   "source": [
    "num_epochs = CFG['epochs']\n",
    "best_models = [] # 폴드별로 가장 validation acc가 높은 모델 저장\n",
    "\n",
    "model = Model2()\n",
    "optimizer = torch.optim.Adam(model.parameters(), lr=CFG['learning_rate'] )\n",
    "criterion = nn.CrossEntropyLoss()\n",
    "lr_scheduler = torch.optim.lr_scheduler.StepLR(optimizer,\n",
    "                                               step_size = 5,\n",
    "                                               gamma = 0.9) # learning rate scheduler 로 학습률 주기적 감소\n",
    "\n",
    "\n",
    "val_acc_max = 0.74\n",
    "val_loss_min = 0.3\n",
    "\n",
    "for epoch in range(num_epochs):\n",
    "       train_loss_list = []\n",
    "       val_loss_list = []\n",
    "       val_acc_list = []\n",
    "       #모델 학습\n",
    "       for i, (images, targets) in enumerate(train_loader):\n",
    "              model.train()\n",
    "\n",
    "              optimizer.zero_grad()\n",
    "              outputs = model(images)\n",
    "\n",
    "              targets = targets.long()\n",
    "              loss = criterion(outputs, targets)\n",
    "              loss.backward()\n",
    "              optimizer.step()\n",
    "\n",
    "              train_loss_list.append(loss.item())\n",
    "\n",
    "              if (i+1) % 20 == 0:\n",
    "                     print(f'Epoch: {epoch} - Loss: {loss:.6f}')\n",
    "\n",
    "       train_loss = np.mean(train_loss_list)\n",
    "\n",
    "\n",
    "       # 모델 검증\n",
    "       for i, (images, targets) in enumerate(val_loader):\n",
    "              model.eval()\n",
    "\n",
    "              with torch.no_grad():\n",
    "                     outputs = model(images)\n",
    "\n",
    "                     targets = targets.long()\n",
    "\n",
    "                     val_loss = criterion(outputs,targets)\n",
    "\n",
    "                     preds = torch.argmax(outputs, dim=1)\n",
    "\n",
    "                     batch_acc = (preds==targets).float().mean() # boolean 값의 평균\n",
    "\n",
    "                     val_loss_list.append(val_loss.item())\n",
    "                     val_acc_list.append(batch_acc.item())\n",
    "\n",
    "       val_loss = np.mean(val_loss_list)\n",
    "       val_acc = np.mean(val_acc_list)\n",
    "\n",
    "\n",
    "       print(f'Epoch: {epoch} - valid Loss: {val_loss:.6f} - valid_acc : {val_acc:.6f}')\n",
    "\n",
    "\n",
    "       #val 에서의 정확도 기준 모델 저장\n",
    "       if val_acc_max < val_acc:\n",
    "              valid_acc_max = val_acc\n",
    "              best_models.append(model)\n",
    "              print('model save, model val acc : ', val_acc)\n",
    "           \n",
    "           \n",
    "\n",
    "       if val_loss_min > val_loss:\n",
    "              val_loss_min = val_loss\n",
    "\n",
    "lr_scheduler.step()\n",
    "print('Train finished, best_models size : ',len(best_models))"
   ],
   "metadata": {
    "collapsed": false,
    "ExecuteTime": {
     "end_time": "2023-12-11T06:20:03.320280800Z",
     "start_time": "2023-12-11T06:19:27.764301300Z"
    }
   },
   "id": "a9e8db82564abbc5"
  },
  {
   "cell_type": "code",
   "execution_count": 21,
   "outputs": [
    {
     "name": "stdout",
     "output_type": "stream",
     "text": [
      "asdf\n",
      "asdf\n",
      "asdf\n",
      "asdf\n",
      "asdf\n",
      "asdf\n",
      "asdf\n",
      "asdf\n",
      "Saved 8 models to C:\\Users\\USER\\Desktop\\19rne\\2023-RnE-main\\saved_models\n"
     ]
    }
   ],
   "source": [
    "save_directory = \"C:\\\\Users\\\\USER\\Desktop\\\\19rne\\\\2023-RnE-main\\saved_models/\"\n",
    "\n",
    "\n",
    "for i, model in enumerate(best_models):\n",
    "       model_filename = f\"best_model_fold_{i}.pth\"\n",
    "       model_path = save_directory + model_filename\n",
    "       torch.save(model.state_dict(), model_path)\n",
    "       print('asdf')\n",
    "\n",
    "print(f\"Saved {len(best_models)} models to {save_directory}\")\n"
   ],
   "metadata": {
    "collapsed": false,
    "ExecuteTime": {
     "end_time": "2023-11-21T06:31:48.648283700Z",
     "start_time": "2023-11-21T06:31:48.612403700Z"
    }
   },
   "id": "61322c2e9c6b0743"
  },
  {
   "cell_type": "code",
   "execution_count": 21,
   "outputs": [],
   "source": [
    "save_directory = \"C:\\\\Users\\\\USER\\Desktop\\\\19rne\\\\2023-RnE-main\\saved_models/\""
   ],
   "metadata": {
    "collapsed": false,
    "ExecuteTime": {
     "end_time": "2023-11-21T06:56:41.421488800Z",
     "start_time": "2023-11-21T06:56:41.404701600Z"
    }
   },
   "id": "233da4a7b85852bb"
  },
  {
   "cell_type": "code",
   "execution_count": null,
   "outputs": [],
   "source": [
    "import matplotlib.pyplot as plt\n",
    "\n",
    "# Validation accuracy values\n",
    "val_acc_values = [0.708333, 0.777778, 0.75, 0.722222, 0.680556, 0.708333,\n",
    "                  0.736111, 0.708333, 0.75, 0.708333, 0.736111, 0.791667,\n",
    "                  0.666667, 0.625, 0.680556, 0.722222, 0.763889, 0.819444,\n",
    "                  0.777778, 0.75]\n",
    "\n",
    "# Plotting the validation accuracy over epochs\n",
    "plt.figure(figsize=(10, 5))\n",
    "plt.plot(val_acc_values, label='Validation Accuracy', marker='o')\n",
    "plt.title('Validation Accuracy over Epochs')\n",
    "plt.xlabel('Epoch')\n",
    "plt.ylabel('Accuracy')\n",
    "plt.legend()\n",
    "plt.show()\n"
   ],
   "metadata": {
    "collapsed": false
   },
   "id": "4266808df860ac66"
  },
  {
   "cell_type": "code",
   "execution_count": null,
   "outputs": [],
   "source": [
    "# 정확도 검증\n",
    "for m in best_models:\n",
    "       with torch.no_grad():\n",
    "              test_loss, test_acc = epoch(test_loader, mode='test')\n",
    "              test_acc = round(test_acc, 4)\n",
    "              test_loss = round(test_loss, 4)\n",
    "              print('Test Acc.: {}'.format(test_acc))\n",
    "              print('Test Loss: {}'.format(test_loss))\n"
   ],
   "metadata": {
    "collapsed": false
   },
   "id": "2043856aefa7c707"
  },
  {
   "cell_type": "code",
   "execution_count": 61,
   "outputs": [],
   "source": [
    "def load_model(model, filepath):\n",
    "       model.load_state_dict(torch.load(filepath))\n",
    "       model.eval()\n",
    "       return model\n"
   ],
   "metadata": {
    "collapsed": false,
    "ExecuteTime": {
     "end_time": "2023-12-11T06:20:22.385575400Z",
     "start_time": "2023-12-11T06:20:22.370557100Z"
    }
   },
   "id": "92bce26e6c993be0"
  },
  {
   "cell_type": "code",
   "execution_count": 62,
   "outputs": [
    {
     "ename": "NameError",
     "evalue": "name 'save_directory' is not defined",
     "output_type": "error",
     "traceback": [
      "\u001B[1;31m---------------------------------------------------------------------------\u001B[0m",
      "\u001B[1;31mNameError\u001B[0m                                 Traceback (most recent call last)",
      "Cell \u001B[1;32mIn[62], line 1\u001B[0m\n\u001B[1;32m----> 1\u001B[0m load_directory \u001B[38;5;241m=\u001B[39m \u001B[43msave_directory\u001B[49m\n\u001B[0;32m      4\u001B[0m num_models \u001B[38;5;241m=\u001B[39m \u001B[38;5;241m8\u001B[39m\n\u001B[0;32m      7\u001B[0m test_accuracies \u001B[38;5;241m=\u001B[39m []\n",
      "\u001B[1;31mNameError\u001B[0m: name 'save_directory' is not defined"
     ]
    }
   ],
   "source": [
    "load_directory = save_directory\n",
    "\n",
    "\n",
    "num_models = 8\n",
    "\n",
    "\n",
    "test_accuracies = []\n",
    "\n",
    "# Iterate through each model\n",
    "for i in range(num_models):\n",
    "       # Create a new instance of your model\n",
    "       model = Model()\n",
    "\n",
    "       # Load the model from the file\n",
    "       model_filename = f\"best_model_fold_{i}.pth\"\n",
    "       model_path = load_directory + model_filename\n",
    "       model = load_model(model, model_path)\n",
    "\n",
    "       # Test the model on the test set\n",
    "       correct = 0\n",
    "       total = 0\n",
    "       with torch.no_grad():\n",
    "              for images, targets in test_loader:\n",
    "                     outputs = model(images)\n",
    "                     _, predicted = torch.max(outputs.data, 1)\n",
    "                     total += targets.size(0)\n",
    "                     correct += (predicted == targets).sum().item()\n",
    "\n",
    "       # Calculate the accuracy for this model\n",
    "       accuracy = correct / total\n",
    "       test_accuracies.append(accuracy)\n",
    "\n",
    "       print(f\"Model {i+1} - Test Accuracy: {accuracy:.4f}\")\n",
    "\n",
    "# Print the average test accuracy across all models\n",
    "average_accuracy = sum(test_accuracies) / num_models\n",
    "print(f\"Average Test Accuracy: {average_accuracy:.4f}\")\n"
   ],
   "metadata": {
    "collapsed": false,
    "ExecuteTime": {
     "end_time": "2023-12-11T06:20:28.209224800Z",
     "start_time": "2023-12-11T06:20:28.179420700Z"
    }
   },
   "id": "15651ac8c33b3349"
  },
  {
   "cell_type": "code",
   "execution_count": 49,
   "outputs": [
    {
     "name": "stdout",
     "output_type": "stream",
     "text": [
      "저정된 frame의 개수: 647\n"
     ]
    }
   ],
   "source": [
    "# 여기부터 실시간 영상 테스트\n",
    "\n",
    "interval = 1\n",
    "video_path = r'C:\\Users\\USER\\Desktop\\19rne\\video_data\\swing_17.mp4'\n",
    "\n",
    "cap = cv2.VideoCapture(video_path)\n",
    "img_list = []\n",
    "if cap.isOpened():\n",
    "       cnt = 0\n",
    "       while True:\n",
    "              ret, img = cap.read()\n",
    "              if ret:\n",
    "                     img = cv2.resize(img, (640, 640))\n",
    "                     if cnt == interval:\n",
    "                            img_list.append(img)\n",
    "                            cnt = 0\n",
    "                     cv2.imshow(video_path, img)\n",
    "                     cv2.waitKey(1)\n",
    "                     cnt += 1\n",
    "              else:\n",
    "                     break\n",
    "cap.release()\n",
    "cv2.destroyAllWindows()\n",
    "\n",
    "print('저정된 frame의 개수: {}'.format(len(img_list)))"
   ],
   "metadata": {
    "collapsed": false,
    "ExecuteTime": {
     "end_time": "2023-12-11T06:18:25.581715400Z",
     "start_time": "2023-12-11T06:18:15.068691Z"
    }
   },
   "id": "307ee52ad21833ba"
  },
  {
   "cell_type": "code",
   "execution_count": 64,
   "outputs": [
    {
     "name": "stdout",
     "output_type": "stream",
     "text": [
      "시퀀스 데이터 분석 중...\n"
     ]
    },
    {
     "name": "stderr",
     "output_type": "stream",
     "text": [
      "  8%|▊         | 49/647 [00:01<00:18, 33.16it/s]"
     ]
    },
    {
     "name": "stdout",
     "output_type": "stream",
     "text": [
      "2\n"
     ]
    },
    {
     "name": "stderr",
     "output_type": "stream",
     "text": [
      " 14%|█▍        | 93/647 [00:02<00:16, 33.00it/s]"
     ]
    },
    {
     "name": "stdout",
     "output_type": "stream",
     "text": [
      "2\n"
     ]
    },
    {
     "name": "stderr",
     "output_type": "stream",
     "text": [
      " 22%|██▏       | 141/647 [00:04<00:15, 33.04it/s]"
     ]
    },
    {
     "name": "stdout",
     "output_type": "stream",
     "text": [
      "2\n"
     ]
    },
    {
     "name": "stderr",
     "output_type": "stream",
     "text": [
      " 29%|██▊       | 185/647 [00:05<00:13, 33.05it/s]"
     ]
    },
    {
     "name": "stdout",
     "output_type": "stream",
     "text": [
      "2\n"
     ]
    },
    {
     "name": "stderr",
     "output_type": "stream",
     "text": [
      " 35%|███▌      | 229/647 [00:06<00:12, 33.11it/s]"
     ]
    },
    {
     "name": "stdout",
     "output_type": "stream",
     "text": [
      "2\n"
     ]
    },
    {
     "name": "stderr",
     "output_type": "stream",
     "text": [
      " 42%|████▏     | 273/647 [00:08<00:11, 33.16it/s]"
     ]
    },
    {
     "name": "stdout",
     "output_type": "stream",
     "text": [
      "2\n"
     ]
    },
    {
     "name": "stderr",
     "output_type": "stream",
     "text": [
      " 50%|████▉     | 321/647 [00:09<00:09, 33.08it/s]"
     ]
    },
    {
     "name": "stdout",
     "output_type": "stream",
     "text": [
      "2\n"
     ]
    },
    {
     "name": "stderr",
     "output_type": "stream",
     "text": [
      " 56%|█████▋    | 365/647 [00:11<00:08, 33.26it/s]"
     ]
    },
    {
     "name": "stdout",
     "output_type": "stream",
     "text": [
      "2\n"
     ]
    },
    {
     "name": "stderr",
     "output_type": "stream",
     "text": [
      " 63%|██████▎   | 409/647 [00:12<00:07, 33.13it/s]"
     ]
    },
    {
     "name": "stdout",
     "output_type": "stream",
     "text": [
      "2\n"
     ]
    },
    {
     "name": "stderr",
     "output_type": "stream",
     "text": [
      " 70%|███████   | 453/647 [00:13<00:05, 32.86it/s]"
     ]
    },
    {
     "name": "stdout",
     "output_type": "stream",
     "text": [
      "2\n"
     ]
    },
    {
     "name": "stderr",
     "output_type": "stream",
     "text": [
      " 77%|███████▋  | 501/647 [00:15<00:04, 33.12it/s]"
     ]
    },
    {
     "name": "stdout",
     "output_type": "stream",
     "text": [
      "2\n"
     ]
    },
    {
     "name": "stderr",
     "output_type": "stream",
     "text": [
      " 84%|████████▍ | 545/647 [00:16<00:03, 33.16it/s]"
     ]
    },
    {
     "name": "stdout",
     "output_type": "stream",
     "text": [
      "2\n"
     ]
    },
    {
     "name": "stderr",
     "output_type": "stream",
     "text": [
      " 91%|█████████ | 589/647 [00:17<00:01, 32.93it/s]"
     ]
    },
    {
     "name": "stdout",
     "output_type": "stream",
     "text": [
      "2\n"
     ]
    },
    {
     "name": "stderr",
     "output_type": "stream",
     "text": [
      " 98%|█████████▊| 637/647 [00:19<00:00, 33.20it/s]"
     ]
    },
    {
     "name": "stdout",
     "output_type": "stream",
     "text": [
      "2\n"
     ]
    },
    {
     "name": "stderr",
     "output_type": "stream",
     "text": [
      "100%|██████████| 647/647 [00:19<00:00, 33.10it/s]\n"
     ]
    }
   ],
   "source": [
    "# 연속 시퀀스 분석\n",
    "from tqdm import tqdm\n",
    "model_filename = \"best_model_fold_4.pth\"\n",
    "model_path = '../saved_models/' + model_filename\n",
    "model = load_model(Model(), model_path)\n",
    "\n",
    "model.eval()\n",
    "out_img_list = []\n",
    "dataset = []\n",
    "status = 'None'\n",
    "mp_pose = mp.solutions.pose\n",
    "pose = mp_pose.Pose(static_image_mode=True, model_complexity=1, min_detection_confidence=0.7, min_tracking_confidence=0.5)\n",
    "\n",
    "\n",
    "print('시퀀스 데이터 분석 중...')\n",
    "xy_list_list = []\n",
    "\n",
    "\n",
    "for img in tqdm(img_list):\n",
    "       results = pose.process(cv2.cvtColor(img, cv2.COLOR_BGR2RGB))\n",
    "       if not results.pose_landmarks: continue\n",
    "       \n",
    "       xy_list = []\n",
    "       idx = 0\n",
    "       for x_and_y in results.pose_landmarks.landmark:\n",
    "              xy_list.append(x_and_y.x)\n",
    "              xy_list.append(x_and_y.y)\n",
    "              x, y = int(x_and_y.x * 640), int(x_and_y.y * 640)\n",
    "              idx += 1\n",
    "       xy_list_list.append(xy_list)\n",
    "\n",
    "       length = 45\n",
    "       if len(xy_list_list) == length:\n",
    "              dataset = []\n",
    "              dataset.append({'key': 4, 'value': xy_list_list})\n",
    "              dataset = MyDataset(dataset)\n",
    "              dataset = DataLoader(dataset)\n",
    "              xy_list_list = []\n",
    "              for data, label in dataset:\n",
    "                     with torch.no_grad():\n",
    "                            result = model(data)\n",
    "                            _, out = torch.max(result, 1)\n",
    "                            print(out.item())\n",
    "              \n",
    "              if out.item() == 0:\n",
    "                     status = 'backward'\n",
    "              elif out.item() == 1:\n",
    "                     status = 'sit'\n",
    "              elif out.item() == 2:\n",
    "                     status = 'slide'\n",
    "              elif out.item() == 3:\n",
    "                     status = 'swing'\n",
    "              elif out.item() == 4:\n",
    "                     status = 'walk'\n",
    "               \n",
    "       cv2.putText(img, status, (0, 50), cv2.FONT_HERSHEY_COMPLEX, 1.5, (0, 0, 255), 2)\n",
    "       #cv2.imshow('asdf', img)\n",
    "       out_img_list.append(img)\n",
    "\n",
    "       "
   ],
   "metadata": {
    "collapsed": false,
    "ExecuteTime": {
     "end_time": "2023-12-11T06:21:27.804361500Z",
     "start_time": "2023-12-11T06:21:08.237203500Z"
    }
   },
   "id": "3e8d1b58921162dd"
  },
  {
   "cell_type": "code",
   "execution_count": 21,
   "outputs": [],
   "source": [
    "for img in out_img_list:\n",
    "       cv2.imshow('asdf', img)"
   ],
   "metadata": {
    "collapsed": false,
    "ExecuteTime": {
     "end_time": "2023-12-11T05:34:40.152747600Z",
     "start_time": "2023-12-11T05:34:40.057082600Z"
    }
   },
   "id": "e2f299f57d148cbf"
  },
  {
   "cell_type": "code",
   "execution_count": null,
   "outputs": [],
   "source": [],
   "metadata": {
    "collapsed": false
   },
   "id": "551f0f5e1c50bb1e"
  }
 ],
 "metadata": {
  "kernelspec": {
   "display_name": "Python 3",
   "language": "python",
   "name": "python3"
  },
  "language_info": {
   "codemirror_mode": {
    "name": "ipython",
    "version": 2
   },
   "file_extension": ".py",
   "mimetype": "text/x-python",
   "name": "python",
   "nbconvert_exporter": "python",
   "pygments_lexer": "ipython2",
   "version": "2.7.6"
  }
 },
 "nbformat": 4,
 "nbformat_minor": 5
}
