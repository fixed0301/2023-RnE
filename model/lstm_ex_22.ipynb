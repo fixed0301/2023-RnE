{
 "cells": [
  {
   "cell_type": "raw",
   "source": [
    "Pytorch Lightning으로 작성"
   ],
   "metadata": {
    "collapsed": false,
    "pycharm": {
     "name": ""
    }
   }
  },
  {
   "cell_type": "code",
   "execution_count": null,
   "outputs": [],
   "source": [
    "import torch\n",
    "import torch.nn.functional as F\n",
    "from torch import nn"
   ],
   "metadata": {
    "collapsed": false
   }
  },
  {
   "cell_type": "code",
   "execution_count": 1,
   "outputs": [],
   "source": [
    "actions = ['backward', 'sit', 'slide', 'swing', 'walk']\n",
    "tot_action_classes = 5\n",
    "\n",
    "dataset_path = '../landmark-csv-processed/'"
   ],
   "metadata": {
    "collapsed": false
   }
  },
  {
   "cell_type": "code",
   "execution_count": null,
   "outputs": [],
   "source": [
    "class LSTM():\n",
    "    def __init__(self, input_features, hidden_dim, lr = 0.001):\n",
    "        self.save_hyperparameters() \n",
    "        self.lstm = nn.LSTM(input_features, hidden_dim, batch_first=True)\n",
    "        self.linear = nn.Linear(hidden_dim, tot_action_classes)\n",
    "\n",
    "    def forward(self, x):\n",
    "        lstm_out, (ht, ct) = self.lstm(x)\n",
    "        return self.linear(ht[-1])\n",
    "\n",
    "    def training_step(self, batch, batch_idx):\n",
    "        x, y = batch\n",
    "        y = torch.sqeeze(y)\n",
    "        y = y.long()\n",
    "        y_pred = self(x)\n",
    "        loss = F.cross_entropy(y_pred, y) #예측값과 실제 값으로 오차 계산\n",
    "        prob = F.softmax(y_pred, dim=1)\n",
    "        pred = prob.data.max(dim=1)[1]\n",
    "        #acc = torchmetrics.functional.accuracy(pred, y) #alternate..\n",
    "        dic = {\n",
    "            'batch_train_loss' : loss,\n",
    "            'batch_train_acc' : acc\n",
    "        }\n",
    "        self.log('batch_train_loss', loss, prog_bar=True)\n",
    "        self.log('batch_train_acc', acc, prog_bar=True)\n",
    "\n",
    "        return {'loss' : loss, 'result': dic}\n",
    "\n",
    "    def training_epoch_end(self, training_step_outputs):\n",
    "        # calculate average training loss end of the epoch\n",
    "        avg_train_loss = torch.tensor([x['result']['batch_train_loss'] for x in training_step_outputs]).mean()\n",
    "        # calculate average training accuracy end of the epoch\n",
    "        avg_train_acc = torch.tensor([x['result']['batch_train_acc'] for x in training_step_outputs]).mean()\n",
    "        # log the metrics for pytorch lightning progress bar and any further processing\n",
    "        self.log('train_loss', avg_train_loss, prog_bar=True)\n",
    "        self.log('train_acc', avg_train_acc, prog_bar=True)\n",
    "\n",
    "    def validation_step(self, batch, batch_idx):\n",
    "        # get data and labels from batch\n",
    "        x, y = batch\n",
    "        # reduce dimension\n",
    "        y = torch.squeeze(y)\n",
    "        # convert to long\n",
    "        y = y.long()\n",
    "        # get prediction\n",
    "        y_pred = self(x)\n",
    "        # calculate loss\n",
    "        loss = F.cross_entropy(y_pred, y)\n",
    "        # get probability score using softmax\n",
    "        prob = F.softmax(y_pred, dim=1)\n",
    "        # get the index of the max probability\n",
    "        pred = prob.data.max(dim=1)[1]\n",
    "        # calculate accuracy\n",
    "        acc = torchmetrics.functional.accuracy(pred, y)\n",
    "        dic = {\n",
    "        'batch_val_loss': loss,\n",
    "        'batch_val_acc': acc\n",
    "        }\n",
    "        # log the metrics for pytorch lightning progress bar and any further processing\n",
    "        self.log('batch_val_loss', loss, prog_bar=True)\n",
    "        self.log('batch_val_acc', acc, prog_bar=True)\n",
    "        #return dict\n",
    "        return dic\n",
    "\n",
    "    def validation_epoch_end(self, validation_step_outputs):\n",
    "        # calculate average validation loss end of the epoch\n",
    "        avg_val_loss = torch.tensor([x['batch_val_loss']\n",
    "                          for x in validation_step_outputs]).mean()\n",
    "        # calculate average validation accuracy end of the epoch\n",
    "        avg_val_acc = torch.tensor([x['batch_val_acc']\n",
    "                         for x in validation_step_outputs]).mean()\n",
    "        # log the metrics for pytorch lightning progress bar and any further processing\n",
    "        self.log('val_loss', avg_val_loss, prog_bar=True)\n",
    "        self.log('val_acc', avg_val_acc, prog_bar=True)\n",
    "        return dic\n",
    "\n",
    "    def configure_optimizers(self):\n",
    "        # adam optimiser\n",
    "        optimizer = optim.Adam(self.parameters(), lr=self.hparams.learning_rate)\n",
    "        # learning rate reducer scheduler\n",
    "        scheduler = optim.lr_scheduler.ReduceLROnPlateau(optimizer, mode='min', factor=0.5, patience=10, min_lr=1e-15, verbose=True)\n",
    "        # scheduler reduces learning rate based on the value of val_loss metric\n",
    "    return {\"optimizer\": optimizer, \"lr_scheduler\": {\"scheduler\": scheduler, \"interval\": \"epoch\", \"frequency\": 1, \"monitor\": \"val_loss\"}"
   ],
   "metadata": {
    "collapsed": false
   }
  }
 ],
 "metadata": {
  "kernelspec": {
   "display_name": "Python 3",
   "language": "python",
   "name": "python3"
  },
  "language_info": {
   "codemirror_mode": {
    "name": "ipython",
    "version": 2
   },
   "file_extension": ".py",
   "mimetype": "text/x-python",
   "name": "python",
   "nbconvert_exporter": "python",
   "pygments_lexer": "ipython2",
   "version": "2.7.6"
  }
 },
 "nbformat": 4,
 "nbformat_minor": 0
}
