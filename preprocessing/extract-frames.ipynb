{
 "cells": [
  {
   "cell_type": "code",
   "execution_count": 4,
   "outputs": [],
   "source": [
    "import cv2\n",
    "import os"
   ],
   "metadata": {
    "collapsed": false
   }
  },
  {
   "cell_type": "code",
   "execution_count": 5,
   "outputs": [
    {
     "name": "stdout",
     "output_type": "stream",
     "text": [
      "success : backward001.mp4 -> backward001.mp4\n",
      "success : backward002.mp4 -> backward002.mp4\n",
      "success : backward003.mp4 -> backward003.mp4\n",
      "success : slide001.mp4 -> slide001.mp4\n",
      "success : slide002.mp4 -> slide002.mp4\n",
      "success : slide003.mp4 -> slide003.mp4\n",
      "success : slide004.mp4 -> slide004.mp4\n",
      "success : slide005.mp4 -> slide005.mp4\n",
      "success : stand001.mp4 -> stand001.mp4\n",
      "success : swing001.mp4 -> swing001.mp4\n",
      "success : swing002.mp4 -> swing002.mp4\n",
      "success : swing003.mp4 -> swing003.mp4\n",
      "success : swing004.mp4 -> swing004.mp4\n",
      "success : swing005.mp4 -> swing005.mp4\n"
     ]
    }
   ],
   "source": [
    "#dataset 영상 이름 변환\n",
    "folder_path = os.path.abspath(os.path.join(os.getcwd(), os.pardir)) + '\\\\dataset'\n",
    "folder_list = os.listdir(folder_path)\n",
    "\n",
    "for folder_name in folder_list :\n",
    "    file_path = folder_path + \"\\\\\" + folder_name\n",
    "    file_list = os.listdir(file_path)\n",
    "\n",
    "    count = 1\n",
    "    for file_name in file_list :\n",
    "        old_name = file_path + \"\\\\\" + file_name\n",
    "        new_name = file_path + \"\\\\\" + folder_name + str(count).zfill(3) + \".mp4\"\n",
    "        try:\n",
    "            os.rename(old_name, new_name)\n",
    "            print(\"success : \" + file_name + \" -> \" + folder_name + str(count).zfill(3) + \".mp4\")\n",
    "        except:\n",
    "            print(\"fail : \" + file_name + \" -> already exists.\")\n",
    "\n",
    "        count += 1"
   ],
   "metadata": {
    "collapsed": false
   }
  },
  {
   "cell_type": "code",
   "execution_count": 11,
   "outputs": [],
   "source": [
    "action = ['backward', 'lie', 'sit', 'slide', 'stand', 'swing', 'walk']\n"
   ],
   "metadata": {
    "collapsed": false
   }
  },
  {
   "cell_type": "code",
   "execution_count": 2,
   "outputs": [],
   "source": [
    "def get_frames(action, seq): #행동 / 그 안의 영상 번호   #action에도 번호 부여\n",
    "    video_path = f'../dataset/{action}/{action}{str(seq).zfill(3)}.mp4'\n",
    "\n",
    "    if not os.path.exists(video_path):\n",
    "        raise IOError('No video:' + video_path)\n",
    "\n",
    "    frames = []\n",
    "\n",
    "    cap = cv2.VideoCapture(video_path)\n",
    "\n",
    "    max_len = 100\n",
    "    sample_interval=1\n",
    "    cnt = 0\n",
    "    width = cap.get(cv2.CAP_PROP_FRAME_WIDTH)\n",
    "    height = cap.get(cv2.CAP_PROP_FRAME_HEIGHT)\n",
    "    fps = cap.get(cv2.CAP_PROP_FPS)\n",
    "\n",
    "    if cap.isOpened():\n",
    "        while True:\n",
    "            ret, img = cap.read()\n",
    "            if not ret:\n",
    "                break\n",
    "            if cnt >= max_len:\n",
    "                break\n",
    "            if int(cap.get(sample_interval)) % fps == 0:\n",
    "                img = cv2.normalize(src=img, dst=None, alpha=0, beta=255, norm_type=cv2.NORM_MINMAX, dtype=cv2.CV_8U)\n",
    "            frames.append(img)\n",
    "            cnt += 1\n",
    "        while len(frames) < max_len:\n",
    "            frames.append(0)\n",
    "\n",
    "    return frames"
   ],
   "metadata": {
    "collapsed": false
   }
  },
  {
   "cell_type": "code",
   "execution_count": 5,
   "outputs": [
    {
     "name": "stdout",
     "output_type": "stream",
     "text": [
      "(720, 480, 3)\n"
     ]
    }
   ],
   "source": [
    "frames = get_frames('slide', 1)\n",
    "resized_frame = cv2.resize(frames[80], dsize =(480, 720), interpolation=cv2.INTER_LINEAR)\n",
    "print(resized_frame.shape)\n",
    "cv2.imshow('asdf', resized_frame)\n",
    "cv2.waitKey(0)\n",
    "cv2.destroyAllWindows()"
   ],
   "metadata": {
    "collapsed": false
   }
  },
  {
   "cell_type": "code",
   "execution_count": 17,
   "outputs": [
    {
     "name": "stdout",
     "output_type": "stream",
     "text": [
      "149\n"
     ]
    }
   ],
   "source": [
    "cap = cv2.VideoCapture('E:\\\\2023\\\\2023_1_1\\\\rne\\dataset\\slide\\slide001.mp4')\n",
    "frame_count = int(cap.get(cv2.CAP_PROP_FRAME_COUNT))\n",
    "print(frame_count)"
   ],
   "metadata": {
    "collapsed": false
   }
  },
  {
   "cell_type": "code",
   "execution_count": 45,
   "outputs": [
    {
     "name": "stdout",
     "output_type": "stream",
     "text": [
      "[[[255 255 255]\n",
      "  [255 255 255]\n",
      "  [255 255 255]\n",
      "  ...\n",
      "  [255 255 255]\n",
      "  [255 255 255]\n",
      "  [255 255 255]]\n",
      "\n",
      " [[255 255 255]\n",
      "  [255 255 255]\n",
      "  [255 255 255]\n",
      "  ...\n",
      "  [255 255 255]\n",
      "  [255 255 255]\n",
      "  [255 255 255]]\n",
      "\n",
      " [[255 255 255]\n",
      "  [255 255 255]\n",
      "  [255 255 255]\n",
      "  ...\n",
      "  [255 255 255]\n",
      "  [255 255 255]\n",
      "  [255 255 255]]\n",
      "\n",
      " ...\n",
      "\n",
      " [[255 255 255]\n",
      "  [255 255 255]\n",
      "  [255 255 255]\n",
      "  ...\n",
      "  [255 255 255]\n",
      "  [255 255 255]\n",
      "  [255 255 255]]\n",
      "\n",
      " [[255 255 255]\n",
      "  [255 255 255]\n",
      "  [255 255 255]\n",
      "  ...\n",
      "  [255 255 255]\n",
      "  [255 255 255]\n",
      "  [255 255 255]]\n",
      "\n",
      " [[255 255 255]\n",
      "  [255 255 255]\n",
      "  [255 255 255]\n",
      "  ...\n",
      "  [255 255 255]\n",
      "  [255 255 255]\n",
      "  [255 255 255]]]\n"
     ]
    },
    {
     "ename": "error",
     "evalue": "OpenCV(4.8.0) :-1: error: (-5:Bad argument) in function 'blobFromImage'\n> Overload resolution failed:\n>  - Can't parse 'size'. Sequence item with index 0 has a wrong type\n>  - Can't parse 'size'. Sequence item with index 0 has a wrong type\n",
     "output_type": "error",
     "traceback": [
      "\u001B[1;31m---------------------------------------------------------------------------\u001B[0m",
      "\u001B[1;31merror\u001B[0m                                     Traceback (most recent call last)",
      "\u001B[1;32m~\\AppData\\Local\\Temp\\ipykernel_3484\\3152668279.py\u001B[0m in \u001B[0;36m<module>\u001B[1;34m\u001B[0m\n\u001B[0;32m      5\u001B[0m \u001B[0mi\u001B[0m \u001B[1;33m=\u001B[0m \u001B[0mcv2\u001B[0m\u001B[1;33m.\u001B[0m\u001B[0mimread\u001B[0m\u001B[1;33m(\u001B[0m\u001B[1;34m\"E:\\im\\\\fullshot.jpg\"\u001B[0m\u001B[1;33m)\u001B[0m\u001B[1;33m\u001B[0m\u001B[1;33m\u001B[0m\u001B[0m\n\u001B[0;32m      6\u001B[0m \u001B[0mprint\u001B[0m\u001B[1;33m(\u001B[0m\u001B[0mi\u001B[0m\u001B[1;33m)\u001B[0m\u001B[1;33m\u001B[0m\u001B[1;33m\u001B[0m\u001B[0m\n\u001B[1;32m----> 7\u001B[1;33m \u001B[0mframe\u001B[0m \u001B[1;33m=\u001B[0m \u001B[0moutputkeypoints\u001B[0m\u001B[1;33m(\u001B[0m\u001B[0mi\u001B[0m\u001B[1;33m,\u001B[0m \u001B[0mproto_file\u001B[0m\u001B[1;33m,\u001B[0m \u001B[0mweights_file\u001B[0m\u001B[1;33m)\u001B[0m\u001B[1;33m\u001B[0m\u001B[1;33m\u001B[0m\u001B[0m\n\u001B[0m",
      "\u001B[1;32mE:\\2023\\2023_1_1\\rne\\dev\\getJoints.py\u001B[0m in \u001B[0;36moutputkeypoints\u001B[1;34m(frame, proto_file, weights_file)\u001B[0m\n\u001B[0;32m     26\u001B[0m     \u001B[1;32mfor\u001B[0m \u001B[0mi\u001B[0m \u001B[1;32min\u001B[0m \u001B[0mrange\u001B[0m\u001B[1;33m(\u001B[0m\u001B[0mlen\u001B[0m\u001B[1;33m(\u001B[0m\u001B[0mBODY_PARTS\u001B[0m\u001B[1;33m)\u001B[0m\u001B[1;33m)\u001B[0m\u001B[1;33m:\u001B[0m\u001B[1;33m\u001B[0m\u001B[1;33m\u001B[0m\u001B[0m\n\u001B[0;32m     27\u001B[0m         \u001B[0mprob_map\u001B[0m \u001B[1;33m=\u001B[0m \u001B[0mout\u001B[0m\u001B[1;33m[\u001B[0m\u001B[1;36m0\u001B[0m\u001B[1;33m,\u001B[0m \u001B[0mi\u001B[0m\u001B[1;33m,\u001B[0m \u001B[1;33m:\u001B[0m\u001B[1;33m,\u001B[0m \u001B[1;33m:\u001B[0m\u001B[1;33m]\u001B[0m\u001B[1;33m\u001B[0m\u001B[1;33m\u001B[0m\u001B[0m\n\u001B[1;32m---> 28\u001B[1;33m \u001B[1;33m\u001B[0m\u001B[0m\n\u001B[0m\u001B[0;32m     29\u001B[0m         \u001B[1;31m# 최소값, 최대값, 최소값 위치, 최대값 위치\u001B[0m\u001B[1;33m\u001B[0m\u001B[1;33m\u001B[0m\u001B[0m\n\u001B[0;32m     30\u001B[0m         \u001B[0mmin_val\u001B[0m\u001B[1;33m,\u001B[0m \u001B[0mconf\u001B[0m\u001B[1;33m,\u001B[0m \u001B[0mmin_loc\u001B[0m\u001B[1;33m,\u001B[0m \u001B[0mpoint\u001B[0m \u001B[1;33m=\u001B[0m \u001B[0mcv2\u001B[0m\u001B[1;33m.\u001B[0m\u001B[0mminMaxLoc\u001B[0m\u001B[1;33m(\u001B[0m\u001B[0mprob_map\u001B[0m\u001B[1;33m)\u001B[0m \u001B[1;31m#global maximum을 찾아서 한명만 추정됨. local은 그냥 두 명 이상을 yolo로 찾아서 대체\u001B[0m\u001B[1;33m\u001B[0m\u001B[1;33m\u001B[0m\u001B[0m\n",
      "\u001B[1;31merror\u001B[0m: OpenCV(4.8.0) :-1: error: (-5:Bad argument) in function 'blobFromImage'\n> Overload resolution failed:\n>  - Can't parse 'size'. Sequence item with index 0 has a wrong type\n>  - Can't parse 'size'. Sequence item with index 0 has a wrong type\n"
     ]
    }
   ],
   "source": [
    "from dev.getJoints import outputkeypoints\n",
    "\n",
    "proto_file = 'E:\\\\2023\\\\2023_1_1\\\\rne\\openpose\\models\\pose\\coco\\pose_deploy_linevec.prototxt'\n",
    "weights_file = 'E:\\\\2023\\\\2023_1_1\\\\rne\\openpose\\models\\pose\\coco\\pose_iter_440000.caffemodel'\n",
    "i = cv2.imread(\"E:\\im\\\\fullshot.jpg\")\n",
    "frame = outputkeypoints(i, proto_file, weights_file)"
   ],
   "metadata": {
    "collapsed": false
   }
  },
  {
   "cell_type": "code",
   "execution_count": 39,
   "outputs": [
    {
     "name": "stdout",
     "output_type": "stream",
     "text": [
      "4.8.0\n"
     ]
    }
   ],
   "source": [
    "print(cv2.__version__)"
   ],
   "metadata": {
    "collapsed": false
   }
  },
  {
   "cell_type": "code",
   "execution_count": null,
   "outputs": [],
   "source": [
    "def extract_multi_frame_features(X, Y, video_indices, window_size):\n",
    "    ''' From image index and raw skeleton positions,\n",
    "        Extract features of body velocity, joint velocity, and normalized joint positions.\n",
    "    '''\n",
    "    X_new = []\n",
    "    Y_new = []\n",
    "\n",
    "    N = len(video_indices)\n",
    "\n",
    "    # Loop through all data\n",
    "    for i, _ in enumerate(video_indices):\n",
    "\n",
    "        # If a new video clip starts, reset the feature generator\n",
    "        if i == 0 or video_indices[i] != video_indices[i-1]:\n",
    "            fg = FeatureGenerator(window_size, is_adding_noise)\n",
    "\n",
    "        # Get features\n",
    "        success, features = fg.add_cur_skeleton(X[i, :])\n",
    "        if success:  # True if (data length > 5) and (skeleton has enough joints)\n",
    "            X_new.append(features)\n",
    "            Y_new.append(Y[i])\n",
    "\n",
    "        # Print\n",
    "        if is_print and i % 1000 == 0:\n",
    "            print(f\"{i}/{N}\", end=\", \")\n",
    "\n",
    "    if is_print:\n",
    "        print(\"\")\n",
    "    X_new = np.array(X_new)\n",
    "    Y_new = np.array(Y_new)\n",
    "    return X_new, Y_new\n"
   ],
   "metadata": {
    "collapsed": false
   }
  },
  {
   "cell_type": "code",
   "execution_count": null,
   "outputs": [],
   "source": [
    "def get_joint(x, idx):\n",
    "    px = x[2*idx]\n",
    "    py = x[2*idx+1]\n",
    "    return px, py"
   ],
   "metadata": {
    "collapsed": false
   }
  }
 ],
 "metadata": {
  "kernelspec": {
   "display_name": "Python 3",
   "language": "python",
   "name": "python3"
  },
  "language_info": {
   "codemirror_mode": {
    "name": "ipython",
    "version": 2
   },
   "file_extension": ".py",
   "mimetype": "text/x-python",
   "name": "python",
   "nbconvert_exporter": "python",
   "pygments_lexer": "ipython2",
   "version": "2.7.6"
  }
 },
 "nbformat": 4,
 "nbformat_minor": 0
}
