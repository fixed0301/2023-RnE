{
 "cells": [
  {
   "cell_type": "code",
   "execution_count": 6,
   "outputs": [],
   "source": [
    "import cv2"
   ],
   "metadata": {
    "collapsed": false
   }
  },
  {
   "cell_type": "code",
   "execution_count": 7,
   "outputs": [],
   "source": [
    "#COCO model\n",
    "# 440000 caffe\n",
    "BODY_PARTS = { \"Nose\": 0, \"Neck\": 1, \"RShoulder\": 2, \"RElbow\": 3, \"RWrist\": 4,\n",
    "               \"LShoulder\": 5, \"LElbow\": 6, \"LWrist\": 7, \"RHip\": 8, \"RKnee\": 9,\n",
    "               \"RAnkle\": 10, \"LHip\": 11, \"LKnee\": 12, \"LAnkle\": 13, \"REye\": 14,\n",
    "               \"LEye\": 15, \"REar\": 16, \"LEar\": 17, \"Background\": 18 }\n",
    "\n",
    "# POSE_PAIRS = [['Nose', 'Neck'], ['Neck', 'LShoulder'], ['Neck', 'RShoulder'], ['LShoulder', 'LElbow'], ['RShoulder', 'RElbow'], ['LElbow', 'LWrist'], ['RElbow', 'RWrist'], ['Neck', 'LHip'], ['Neck', 'RHip'], [\"LHip\", 'LKnee'], [\"RHip\", \"RKnee\"], ['LKnee', 'LAnkle'], ['RKnee', 'RAnkle']] #use only 14pairs\n",
    "POSE_PAIRS = [[0, 1], [0, 14], [0, 15], [1, 2], [1, 5], [1, 8], [1, 11], [2, 3], [3, 4],\n",
    "                   [5, 6], [6, 7], [8, 9], [9, 10], [12, 13], [11, 12], [14, 16], [15, 17]]\n"
   ],
   "metadata": {
    "collapsed": false
   }
  },
  {
   "cell_type": "code",
   "execution_count": 9,
   "outputs": [],
   "source": [
    "proto_file = 'E:\\\\2023\\\\2023_1_1\\\\rne\\openpose\\models\\pose\\coco\\pose_deploy_linevec.prototxt'\n",
    "weights_file = 'E:\\\\2023\\\\2023_1_1\\\\rne\\openpose\\models\\pose\\coco\\pose_iter_440000.caffemodel'"
   ],
   "metadata": {
    "collapsed": false
   }
  },
  {
   "cell_type": "code",
   "execution_count": 46,
   "outputs": [],
   "source": [
    "def output_keypoints(frame, proto_file, weights_file):\n",
    "    global points\n",
    "    points = []\n",
    "\n",
    "    net = cv2.dnn.readNetFromCaffe(proto_file, weights_file)\n",
    "\n",
    "    frame_width = frame[0]\n",
    "    frame_height = frame[1]\n",
    "\n",
    "    net.setInput(cv2.dnn.blobFromImage(frame, 1.0 / 255, (frame_width, frame_height), (0, 0, 0), swapRB=False, crop=False))\n",
    "    out = net.forward()\n",
    "    out = out[:, :19, :, :] #네트워크의 정해진 ouput이 있어서 마음대로 벡터 연결시키면 안됨. 우선 18 keypoints 얻고 필요시 제거\n",
    "\n",
    "    thres = 0.5\n",
    "    for i in range(len(BODY_PARTS)):\n",
    "        prob_map = out[0, i, :, :]\n",
    "\n",
    "        # 최소값, 최대값, 최소값 위치, 최대값 위치\n",
    "        min_val, conf, min_loc, point = cv2.minMaxLoc(prob_map) #global maximum을 찾아서 한명만 추정됨. local은 그냥 두 명 이상을 yolo로 찾아서 대체\n",
    "\n",
    "        x = int((frame_width * point[0]) / frame_width)\n",
    "        y = int((frame_height * point[1]) / frame_height)\n",
    "        if conf > thres:\n",
    "            points.append((x, y))\n",
    "            cv2.circle(frame, (x, y), 5, (0, 255, 255), thickness=-1, lineType=cv2.FILLED)\n",
    "        else: points.append(None)\n",
    "    return frame"
   ],
   "metadata": {
    "collapsed": false
   }
  },
  {
   "cell_type": "code",
   "execution_count": null,
   "outputs": [],
   "source": [
    "# for pair in POSE_PAIRS:\n",
    "#         partFrom = pair[0]\n",
    "#         partTo = pair[1]"
   ],
   "metadata": {
    "collapsed": false
   }
  },
  {
   "cell_type": "code",
   "execution_count": 11,
   "outputs": [],
   "source": [
    "def get_joints(frame):\n",
    "    circled_frame = output_keypoints(frame, proto_file, weights_file)\n",
    "    return points\n",
    "\n"
   ],
   "metadata": {
    "collapsed": false
   }
  },
  {
   "cell_type": "code",
   "execution_count": null,
   "outputs": [],
   "source": [
    "def draw_bodypose(canvas, candidate, subset):\n",
    "    stickwidth = 4\n",
    "    limbSeq = [[2, 3], [2, 6], [3, 4], [4, 5], [6, 7], [7, 8], [2, 9], [9, 10], \\\n",
    "               [10, 11], [2, 12], [12, 13], [13, 14], [2, 1], [1, 15], [15, 17], \\\n",
    "               [1, 16], [16, 18], [3, 17], [6, 18]]\n",
    "\n"
   ],
   "metadata": {
    "collapsed": false
   }
  },
  {
   "cell_type": "code",
   "execution_count": null,
   "outputs": [],
   "source": [],
   "metadata": {
    "collapsed": false
   }
  }
 ],
 "metadata": {
  "kernelspec": {
   "display_name": "Python 3",
   "language": "python",
   "name": "python3"
  },
  "language_info": {
   "codemirror_mode": {
    "name": "ipython",
    "version": 2
   },
   "file_extension": ".py",
   "mimetype": "text/x-python",
   "name": "python",
   "nbconvert_exporter": "python",
   "pygments_lexer": "ipython2",
   "version": "2.7.6"
  }
 },
 "nbformat": 4,
 "nbformat_minor": 0
}
